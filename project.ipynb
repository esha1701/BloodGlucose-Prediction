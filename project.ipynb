{
  "cells": [
    {
      "cell_type": "markdown",
      "metadata": {
        "id": "view-in-github",
        "colab_type": "text"
      },
      "source": [
        "<a href=\"https://colab.research.google.com/github/esha1701/BloodGlucose-LSTM/blob/main/project.ipynb\" target=\"_parent\"><img src=\"https://colab.research.google.com/assets/colab-badge.svg\" alt=\"Open In Colab\"/></a>"
      ]
    },
    {
      "cell_type": "code",
      "execution_count": 182,
      "metadata": {
        "id": "syD02GAmapxx"
      },
      "outputs": [],
      "source": [
        "import pandas as pd\n",
        "import numpy as np\n",
        "from sklearn.preprocessing import StandardScaler\n",
        "from tensorflow.keras.models import Sequential\n",
        "from tensorflow.keras.layers import *\n",
        "from tensorflow.keras.callbacks import ModelCheckpoint\n",
        "from tensorflow.keras.losses import MeanSquaredError\n",
        "from tensorflow.keras.metrics import RootMeanSquaredError\n",
        "from tensorflow.keras.optimizers import Adam\n",
        "from tensorflow.keras.models import load_model\n",
        "import matplotlib.pyplot as plt\n",
        "from sklearn.metrics import mean_squared_error\n",
        "import math"
      ]
    },
    {
      "cell_type": "code",
      "execution_count": 183,
      "metadata": {
        "id": "HLK4oPnlfUAl"
      },
      "outputs": [],
      "source": [
        "import warnings\n",
        "warnings.filterwarnings('ignore')"
      ]
    },
    {
      "cell_type": "markdown",
      "metadata": {
        "id": "ZjV4jCekjizm"
      },
      "source": [
        "## Data Extraction, Preprocessing & Exploration"
      ]
    },
    {
      "cell_type": "markdown",
      "source": [
        "### Loading CGM Data "
      ],
      "metadata": {
        "id": "HVLrzmykOty3"
      }
    },
    {
      "cell_type": "code",
      "execution_count": 184,
      "metadata": {
        "id": "UwKtQlKchVhR",
        "colab": {
          "base_uri": "https://localhost:8080/",
          "height": 860
        },
        "outputId": "e4dbd4c1-1a6f-4578-a9f1-808cfdcccbed"
      },
      "outputs": [
        {
          "output_type": "execute_result",
          "data": {
            "text/html": [
              "<div>\n",
              "<style scoped>\n",
              "    .dataframe tbody tr th:only-of-type {\n",
              "        vertical-align: middle;\n",
              "    }\n",
              "\n",
              "    .dataframe tbody tr th {\n",
              "        vertical-align: top;\n",
              "    }\n",
              "\n",
              "    .dataframe thead th {\n",
              "        text-align: right;\n",
              "    }\n",
              "</style>\n",
              "<table border=\"1\" class=\"dataframe\">\n",
              "  <thead>\n",
              "    <tr style=\"text-align: right;\">\n",
              "      <th></th>\n",
              "      <th>type</th>\n",
              "      <th>sourceName</th>\n",
              "      <th>value</th>\n",
              "      <th>unit</th>\n",
              "      <th>startDate</th>\n",
              "      <th>endDate</th>\n",
              "      <th>creationDate</th>\n",
              "      <th>com.loopkit.InsulinKit.MetadataKeyProgrammedTempBasalRate</th>\n",
              "      <th>com.loopkit.InsulinKit.MetadataKeyScheduledBasalRate</th>\n",
              "      <th>com.loudnate.CarbKit.HKMetadataKey.AbsorptionTimeMinutes</th>\n",
              "      <th>FitzpatrickSkinType</th>\n",
              "      <th>HKMetadataKeySyncVersion</th>\n",
              "      <th>CardioFitnessMedicationsUse</th>\n",
              "      <th>sourceVersion</th>\n",
              "      <th>HasLoopKitOrigin</th>\n",
              "      <th>Transmitter Time</th>\n",
              "      <th>Status</th>\n",
              "      <th>BloodType</th>\n",
              "      <th>BiologicalSex</th>\n",
              "      <th>Trend Arrow</th>\n",
              "      <th>HKInsulinDeliveryReason</th>\n",
              "      <th>HKMetadataKeyDevicePlacementSide</th>\n",
              "      <th>com.loudnate.GlucoseKit.HKMetadataKey.GlucoseIsDisplayOnly</th>\n",
              "      <th>HKFoodType</th>\n",
              "      <th>device</th>\n",
              "      <th>DateOfBirth</th>\n",
              "      <th>HKTimeZone</th>\n",
              "      <th>HKDeviceName</th>\n",
              "      <th>Trend Rate</th>\n",
              "      <th>HKWasUserEntered</th>\n",
              "      <th>HKMetadataKeySyncIdentifier</th>\n",
              "    </tr>\n",
              "  </thead>\n",
              "  <tbody>\n",
              "    <tr>\n",
              "      <th>0</th>\n",
              "      <td>BloodGlucose</td>\n",
              "      <td>Loop</td>\n",
              "      <td>126</td>\n",
              "      <td>mg/dL</td>\n",
              "      <td>11/1/21 0:05</td>\n",
              "      <td>11/1/21 0:05</td>\n",
              "      <td>11/1/21 0:05</td>\n",
              "      <td>NaN</td>\n",
              "      <td>NaN</td>\n",
              "      <td>NaN</td>\n",
              "      <td>NaN</td>\n",
              "      <td>1.0</td>\n",
              "      <td>NaN</td>\n",
              "      <td>57</td>\n",
              "      <td>NaN</td>\n",
              "      <td>NaN</td>\n",
              "      <td>NaN</td>\n",
              "      <td>NaN</td>\n",
              "      <td>NaN</td>\n",
              "      <td>NaN</td>\n",
              "      <td>NaN</td>\n",
              "      <td>NaN</td>\n",
              "      <td>0.0</td>\n",
              "      <td>NaN</td>\n",
              "      <td>&lt;&lt;HKDevice: 0x28014c000&gt;, name:CGMBLEKit, manu...</td>\n",
              "      <td>NaN</td>\n",
              "      <td>NaN</td>\n",
              "      <td>NaN</td>\n",
              "      <td>NaN</td>\n",
              "      <td>NaN</td>\n",
              "      <td>8MB5QB 3729973</td>\n",
              "    </tr>\n",
              "    <tr>\n",
              "      <th>1</th>\n",
              "      <td>BloodGlucose</td>\n",
              "      <td>Loop</td>\n",
              "      <td>126</td>\n",
              "      <td>mg/dL</td>\n",
              "      <td>11/1/21 0:00</td>\n",
              "      <td>11/1/21 0:00</td>\n",
              "      <td>11/1/21 0:00</td>\n",
              "      <td>NaN</td>\n",
              "      <td>NaN</td>\n",
              "      <td>NaN</td>\n",
              "      <td>NaN</td>\n",
              "      <td>1.0</td>\n",
              "      <td>NaN</td>\n",
              "      <td>57</td>\n",
              "      <td>NaN</td>\n",
              "      <td>NaN</td>\n",
              "      <td>NaN</td>\n",
              "      <td>NaN</td>\n",
              "      <td>NaN</td>\n",
              "      <td>NaN</td>\n",
              "      <td>NaN</td>\n",
              "      <td>NaN</td>\n",
              "      <td>0.0</td>\n",
              "      <td>NaN</td>\n",
              "      <td>&lt;&lt;HKDevice: 0x28014c000&gt;, name:CGMBLEKit, manu...</td>\n",
              "      <td>NaN</td>\n",
              "      <td>NaN</td>\n",
              "      <td>NaN</td>\n",
              "      <td>NaN</td>\n",
              "      <td>NaN</td>\n",
              "      <td>8MB5QB 3729673</td>\n",
              "    </tr>\n",
              "    <tr>\n",
              "      <th>2</th>\n",
              "      <td>BloodGlucose</td>\n",
              "      <td>Loop</td>\n",
              "      <td>121</td>\n",
              "      <td>mg/dL</td>\n",
              "      <td>10/31/21 23:55</td>\n",
              "      <td>10/31/21 23:55</td>\n",
              "      <td>10/31/21 23:55</td>\n",
              "      <td>NaN</td>\n",
              "      <td>NaN</td>\n",
              "      <td>NaN</td>\n",
              "      <td>NaN</td>\n",
              "      <td>1.0</td>\n",
              "      <td>NaN</td>\n",
              "      <td>57</td>\n",
              "      <td>NaN</td>\n",
              "      <td>NaN</td>\n",
              "      <td>NaN</td>\n",
              "      <td>NaN</td>\n",
              "      <td>NaN</td>\n",
              "      <td>NaN</td>\n",
              "      <td>NaN</td>\n",
              "      <td>NaN</td>\n",
              "      <td>0.0</td>\n",
              "      <td>NaN</td>\n",
              "      <td>&lt;&lt;HKDevice: 0x28014c000&gt;, name:CGMBLEKit, manu...</td>\n",
              "      <td>NaN</td>\n",
              "      <td>NaN</td>\n",
              "      <td>NaN</td>\n",
              "      <td>NaN</td>\n",
              "      <td>NaN</td>\n",
              "      <td>8MB5QB 3729373</td>\n",
              "    </tr>\n",
              "    <tr>\n",
              "      <th>3</th>\n",
              "      <td>BloodGlucose</td>\n",
              "      <td>Loop</td>\n",
              "      <td>122</td>\n",
              "      <td>mg/dL</td>\n",
              "      <td>10/31/21 23:50</td>\n",
              "      <td>10/31/21 23:50</td>\n",
              "      <td>10/31/21 23:50</td>\n",
              "      <td>NaN</td>\n",
              "      <td>NaN</td>\n",
              "      <td>NaN</td>\n",
              "      <td>NaN</td>\n",
              "      <td>1.0</td>\n",
              "      <td>NaN</td>\n",
              "      <td>57</td>\n",
              "      <td>NaN</td>\n",
              "      <td>NaN</td>\n",
              "      <td>NaN</td>\n",
              "      <td>NaN</td>\n",
              "      <td>NaN</td>\n",
              "      <td>NaN</td>\n",
              "      <td>NaN</td>\n",
              "      <td>NaN</td>\n",
              "      <td>0.0</td>\n",
              "      <td>NaN</td>\n",
              "      <td>&lt;&lt;HKDevice: 0x28014c000&gt;, name:CGMBLEKit, manu...</td>\n",
              "      <td>NaN</td>\n",
              "      <td>NaN</td>\n",
              "      <td>NaN</td>\n",
              "      <td>NaN</td>\n",
              "      <td>NaN</td>\n",
              "      <td>8MB5QB 3729073</td>\n",
              "    </tr>\n",
              "    <tr>\n",
              "      <th>4</th>\n",
              "      <td>BloodGlucose</td>\n",
              "      <td>Loop</td>\n",
              "      <td>123</td>\n",
              "      <td>mg/dL</td>\n",
              "      <td>10/31/21 23:45</td>\n",
              "      <td>10/31/21 23:45</td>\n",
              "      <td>10/31/21 23:45</td>\n",
              "      <td>NaN</td>\n",
              "      <td>NaN</td>\n",
              "      <td>NaN</td>\n",
              "      <td>NaN</td>\n",
              "      <td>1.0</td>\n",
              "      <td>NaN</td>\n",
              "      <td>57</td>\n",
              "      <td>NaN</td>\n",
              "      <td>NaN</td>\n",
              "      <td>NaN</td>\n",
              "      <td>NaN</td>\n",
              "      <td>NaN</td>\n",
              "      <td>NaN</td>\n",
              "      <td>NaN</td>\n",
              "      <td>NaN</td>\n",
              "      <td>0.0</td>\n",
              "      <td>NaN</td>\n",
              "      <td>&lt;&lt;HKDevice: 0x28014c000&gt;, name:CGMBLEKit, manu...</td>\n",
              "      <td>NaN</td>\n",
              "      <td>NaN</td>\n",
              "      <td>NaN</td>\n",
              "      <td>NaN</td>\n",
              "      <td>NaN</td>\n",
              "      <td>8MB5QB 3728773</td>\n",
              "    </tr>\n",
              "    <tr>\n",
              "      <th>...</th>\n",
              "      <td>...</td>\n",
              "      <td>...</td>\n",
              "      <td>...</td>\n",
              "      <td>...</td>\n",
              "      <td>...</td>\n",
              "      <td>...</td>\n",
              "      <td>...</td>\n",
              "      <td>...</td>\n",
              "      <td>...</td>\n",
              "      <td>...</td>\n",
              "      <td>...</td>\n",
              "      <td>...</td>\n",
              "      <td>...</td>\n",
              "      <td>...</td>\n",
              "      <td>...</td>\n",
              "      <td>...</td>\n",
              "      <td>...</td>\n",
              "      <td>...</td>\n",
              "      <td>...</td>\n",
              "      <td>...</td>\n",
              "      <td>...</td>\n",
              "      <td>...</td>\n",
              "      <td>...</td>\n",
              "      <td>...</td>\n",
              "      <td>...</td>\n",
              "      <td>...</td>\n",
              "      <td>...</td>\n",
              "      <td>...</td>\n",
              "      <td>...</td>\n",
              "      <td>...</td>\n",
              "      <td>...</td>\n",
              "    </tr>\n",
              "    <tr>\n",
              "      <th>65529</th>\n",
              "      <td>BloodGlucose</td>\n",
              "      <td>Dexcom G6</td>\n",
              "      <td>132</td>\n",
              "      <td>mg/dL</td>\n",
              "      <td>3/10/21 16:37</td>\n",
              "      <td>3/10/21 16:37</td>\n",
              "      <td>3/10/21 19:42</td>\n",
              "      <td>NaN</td>\n",
              "      <td>NaN</td>\n",
              "      <td>NaN</td>\n",
              "      <td>NaN</td>\n",
              "      <td>NaN</td>\n",
              "      <td>NaN</td>\n",
              "      <td>16629</td>\n",
              "      <td>NaN</td>\n",
              "      <td>2021-03-10 20:37:01 +0000</td>\n",
              "      <td>IN_RANGE</td>\n",
              "      <td>NaN</td>\n",
              "      <td>NaN</td>\n",
              "      <td>Flat</td>\n",
              "      <td>NaN</td>\n",
              "      <td>NaN</td>\n",
              "      <td>NaN</td>\n",
              "      <td>NaN</td>\n",
              "      <td>NaN</td>\n",
              "      <td>NaN</td>\n",
              "      <td>America/New_York</td>\n",
              "      <td>1.038627e+13</td>\n",
              "      <td>0.2</td>\n",
              "      <td>NaN</td>\n",
              "      <td>NaN</td>\n",
              "    </tr>\n",
              "    <tr>\n",
              "      <th>65530</th>\n",
              "      <td>BloodGlucose</td>\n",
              "      <td>Dexcom G6</td>\n",
              "      <td>129</td>\n",
              "      <td>mg/dL</td>\n",
              "      <td>3/10/21 16:32</td>\n",
              "      <td>3/10/21 16:32</td>\n",
              "      <td>3/10/21 19:37</td>\n",
              "      <td>NaN</td>\n",
              "      <td>NaN</td>\n",
              "      <td>NaN</td>\n",
              "      <td>NaN</td>\n",
              "      <td>NaN</td>\n",
              "      <td>NaN</td>\n",
              "      <td>16629</td>\n",
              "      <td>NaN</td>\n",
              "      <td>2021-03-10 20:32:01 +0000</td>\n",
              "      <td>IN_RANGE</td>\n",
              "      <td>NaN</td>\n",
              "      <td>NaN</td>\n",
              "      <td>Flat</td>\n",
              "      <td>NaN</td>\n",
              "      <td>NaN</td>\n",
              "      <td>NaN</td>\n",
              "      <td>NaN</td>\n",
              "      <td>NaN</td>\n",
              "      <td>NaN</td>\n",
              "      <td>America/New_York</td>\n",
              "      <td>1.038627e+13</td>\n",
              "      <td>-0.2</td>\n",
              "      <td>NaN</td>\n",
              "      <td>NaN</td>\n",
              "    </tr>\n",
              "    <tr>\n",
              "      <th>65531</th>\n",
              "      <td>BloodGlucose</td>\n",
              "      <td>Dexcom G6</td>\n",
              "      <td>128</td>\n",
              "      <td>mg/dL</td>\n",
              "      <td>3/10/21 16:27</td>\n",
              "      <td>3/10/21 16:27</td>\n",
              "      <td>3/10/21 19:32</td>\n",
              "      <td>NaN</td>\n",
              "      <td>NaN</td>\n",
              "      <td>NaN</td>\n",
              "      <td>NaN</td>\n",
              "      <td>NaN</td>\n",
              "      <td>NaN</td>\n",
              "      <td>16629</td>\n",
              "      <td>NaN</td>\n",
              "      <td>2021-03-10 20:27:01 +0000</td>\n",
              "      <td>IN_RANGE</td>\n",
              "      <td>NaN</td>\n",
              "      <td>NaN</td>\n",
              "      <td>Flat</td>\n",
              "      <td>NaN</td>\n",
              "      <td>NaN</td>\n",
              "      <td>NaN</td>\n",
              "      <td>NaN</td>\n",
              "      <td>NaN</td>\n",
              "      <td>NaN</td>\n",
              "      <td>America/New_York</td>\n",
              "      <td>1.038627e+13</td>\n",
              "      <td>0.0</td>\n",
              "      <td>NaN</td>\n",
              "      <td>NaN</td>\n",
              "    </tr>\n",
              "    <tr>\n",
              "      <th>65532</th>\n",
              "      <td>BloodGlucose</td>\n",
              "      <td>Dexcom G6</td>\n",
              "      <td>129</td>\n",
              "      <td>mg/dL</td>\n",
              "      <td>3/10/21 16:22</td>\n",
              "      <td>3/10/21 16:22</td>\n",
              "      <td>3/10/21 19:27</td>\n",
              "      <td>NaN</td>\n",
              "      <td>NaN</td>\n",
              "      <td>NaN</td>\n",
              "      <td>NaN</td>\n",
              "      <td>NaN</td>\n",
              "      <td>NaN</td>\n",
              "      <td>16629</td>\n",
              "      <td>NaN</td>\n",
              "      <td>2021-03-10 20:22:01 +0000</td>\n",
              "      <td>IN_RANGE</td>\n",
              "      <td>NaN</td>\n",
              "      <td>NaN</td>\n",
              "      <td>Flat</td>\n",
              "      <td>NaN</td>\n",
              "      <td>NaN</td>\n",
              "      <td>NaN</td>\n",
              "      <td>NaN</td>\n",
              "      <td>NaN</td>\n",
              "      <td>NaN</td>\n",
              "      <td>America/New_York</td>\n",
              "      <td>1.038627e+13</td>\n",
              "      <td>0.0</td>\n",
              "      <td>NaN</td>\n",
              "      <td>NaN</td>\n",
              "    </tr>\n",
              "    <tr>\n",
              "      <th>65533</th>\n",
              "      <td>BloodGlucose</td>\n",
              "      <td>Dexcom G6</td>\n",
              "      <td>129</td>\n",
              "      <td>mg/dL</td>\n",
              "      <td>3/10/21 16:17</td>\n",
              "      <td>3/10/21 16:17</td>\n",
              "      <td>3/10/21 19:17</td>\n",
              "      <td>NaN</td>\n",
              "      <td>NaN</td>\n",
              "      <td>NaN</td>\n",
              "      <td>NaN</td>\n",
              "      <td>NaN</td>\n",
              "      <td>NaN</td>\n",
              "      <td>16629</td>\n",
              "      <td>NaN</td>\n",
              "      <td>2021-03-10 20:17:01 +0000</td>\n",
              "      <td>IN_RANGE</td>\n",
              "      <td>NaN</td>\n",
              "      <td>NaN</td>\n",
              "      <td>Flat</td>\n",
              "      <td>NaN</td>\n",
              "      <td>NaN</td>\n",
              "      <td>NaN</td>\n",
              "      <td>NaN</td>\n",
              "      <td>NaN</td>\n",
              "      <td>NaN</td>\n",
              "      <td>America/New_York</td>\n",
              "      <td>1.038627e+13</td>\n",
              "      <td>0.0</td>\n",
              "      <td>NaN</td>\n",
              "      <td>NaN</td>\n",
              "    </tr>\n",
              "  </tbody>\n",
              "</table>\n",
              "<p>65534 rows × 31 columns</p>\n",
              "</div>"
            ],
            "text/plain": [
              "               type sourceName  ...  HKWasUserEntered HKMetadataKeySyncIdentifier\n",
              "0      BloodGlucose       Loop  ...               NaN              8MB5QB 3729973\n",
              "1      BloodGlucose       Loop  ...               NaN              8MB5QB 3729673\n",
              "2      BloodGlucose       Loop  ...               NaN              8MB5QB 3729373\n",
              "3      BloodGlucose       Loop  ...               NaN              8MB5QB 3729073\n",
              "4      BloodGlucose       Loop  ...               NaN              8MB5QB 3728773\n",
              "...             ...        ...  ...               ...                         ...\n",
              "65529  BloodGlucose  Dexcom G6  ...               NaN                         NaN\n",
              "65530  BloodGlucose  Dexcom G6  ...               NaN                         NaN\n",
              "65531  BloodGlucose  Dexcom G6  ...               NaN                         NaN\n",
              "65532  BloodGlucose  Dexcom G6  ...               NaN                         NaN\n",
              "65533  BloodGlucose  Dexcom G6  ...               NaN                         NaN\n",
              "\n",
              "[65534 rows x 31 columns]"
            ]
          },
          "metadata": {},
          "execution_count": 184
        }
      ],
      "source": [
        "# getting file containing only blood glucose values\n",
        "bgdf = pd.read_csv(\"/content/bg-Table 1.csv\")\n",
        "bgdf"
      ]
    },
    {
      "cell_type": "markdown",
      "source": [
        "We are only interested in the timestamps and value of blood glucose values. The rest of the columns are all interal [Loop ](https://loopkit.github.io/loopdocs/)states which can be dropped."
      ],
      "metadata": {
        "id": "y63N1IK2KW_4"
      }
    },
    {
      "cell_type": "code",
      "execution_count": 185,
      "metadata": {
        "id": "s424z80xkywJ",
        "colab": {
          "base_uri": "https://localhost:8080/",
          "height": 411
        },
        "outputId": "44d4a86d-c5cd-4b12-ca46-365069ca2f99"
      },
      "outputs": [
        {
          "output_type": "execute_result",
          "data": {
            "text/html": [
              "<div>\n",
              "<style scoped>\n",
              "    .dataframe tbody tr th:only-of-type {\n",
              "        vertical-align: middle;\n",
              "    }\n",
              "\n",
              "    .dataframe tbody tr th {\n",
              "        vertical-align: top;\n",
              "    }\n",
              "\n",
              "    .dataframe thead th {\n",
              "        text-align: right;\n",
              "    }\n",
              "</style>\n",
              "<table border=\"1\" class=\"dataframe\">\n",
              "  <thead>\n",
              "    <tr style=\"text-align: right;\">\n",
              "      <th></th>\n",
              "      <th>startDate</th>\n",
              "      <th>value</th>\n",
              "    </tr>\n",
              "  </thead>\n",
              "  <tbody>\n",
              "    <tr>\n",
              "      <th>0</th>\n",
              "      <td>2021-11-01 00:05:00</td>\n",
              "      <td>126</td>\n",
              "    </tr>\n",
              "    <tr>\n",
              "      <th>1</th>\n",
              "      <td>2021-11-01 00:00:00</td>\n",
              "      <td>126</td>\n",
              "    </tr>\n",
              "    <tr>\n",
              "      <th>2</th>\n",
              "      <td>2021-10-31 23:55:00</td>\n",
              "      <td>121</td>\n",
              "    </tr>\n",
              "    <tr>\n",
              "      <th>3</th>\n",
              "      <td>2021-10-31 23:50:00</td>\n",
              "      <td>122</td>\n",
              "    </tr>\n",
              "    <tr>\n",
              "      <th>4</th>\n",
              "      <td>2021-10-31 23:45:00</td>\n",
              "      <td>123</td>\n",
              "    </tr>\n",
              "    <tr>\n",
              "      <th>...</th>\n",
              "      <td>...</td>\n",
              "      <td>...</td>\n",
              "    </tr>\n",
              "    <tr>\n",
              "      <th>65529</th>\n",
              "      <td>2021-03-10 16:37:00</td>\n",
              "      <td>132</td>\n",
              "    </tr>\n",
              "    <tr>\n",
              "      <th>65530</th>\n",
              "      <td>2021-03-10 16:32:00</td>\n",
              "      <td>129</td>\n",
              "    </tr>\n",
              "    <tr>\n",
              "      <th>65531</th>\n",
              "      <td>2021-03-10 16:27:00</td>\n",
              "      <td>128</td>\n",
              "    </tr>\n",
              "    <tr>\n",
              "      <th>65532</th>\n",
              "      <td>2021-03-10 16:22:00</td>\n",
              "      <td>129</td>\n",
              "    </tr>\n",
              "    <tr>\n",
              "      <th>65533</th>\n",
              "      <td>2021-03-10 16:17:00</td>\n",
              "      <td>129</td>\n",
              "    </tr>\n",
              "  </tbody>\n",
              "</table>\n",
              "<p>65534 rows × 2 columns</p>\n",
              "</div>"
            ],
            "text/plain": [
              "                startDate  value\n",
              "0     2021-11-01 00:05:00    126\n",
              "1     2021-11-01 00:00:00    126\n",
              "2     2021-10-31 23:55:00    121\n",
              "3     2021-10-31 23:50:00    122\n",
              "4     2021-10-31 23:45:00    123\n",
              "...                   ...    ...\n",
              "65529 2021-03-10 16:37:00    132\n",
              "65530 2021-03-10 16:32:00    129\n",
              "65531 2021-03-10 16:27:00    128\n",
              "65532 2021-03-10 16:22:00    129\n",
              "65533 2021-03-10 16:17:00    129\n",
              "\n",
              "[65534 rows x 2 columns]"
            ]
          },
          "metadata": {},
          "execution_count": 185
        }
      ],
      "source": [
        "# We only need time & bg values, rest of the column are internal loop states \n",
        "bgdf = bgdf[[\"startDate\",\"value\"]]\n",
        "bgdf['startDate'] = pd.to_datetime(bgdf['startDate']) \n",
        "bgdf"
      ]
    },
    {
      "cell_type": "markdown",
      "source": [
        "### Blood Glucose Stats"
      ],
      "metadata": {
        "id": "Av9Q3yRaNmqf"
      }
    },
    {
      "cell_type": "code",
      "source": [
        "maxBG = bgdf['value'].max()\n",
        "minBG = bgdf['value'].min()\n",
        "meanBG = bgdf['value'].mean()\n",
        "stdBG = bgdf['value'].std()\n",
        "\n",
        "print('Maximum blood glucose:', maxBG, 'mg/dl')\n",
        "print('Minimum blood glucose:', minBG,'mg/dl')\n",
        "print('Mean blood glucose:', meanBG,'mg/dl')\n",
        "print('Standard deviation:', stdBG,'mg/dl')"
      ],
      "metadata": {
        "id": "ihxyMF38YhMj",
        "colab": {
          "base_uri": "https://localhost:8080/"
        },
        "outputId": "68e3a2f4-adb5-45fe-8c3a-dc93883e0656"
      },
      "execution_count": 186,
      "outputs": [
        {
          "output_type": "stream",
          "name": "stdout",
          "text": [
            "Maximum blood glucose: 262 mg/dl\n",
            "Minimum blood glucose: 39 mg/dl\n",
            "Mean blood glucose: 116.70767845698415 mg/dl\n",
            "Standard deviation: 25.835676287466875 mg/dl\n"
          ]
        }
      ]
    },
    {
      "cell_type": "markdown",
      "source": [
        "Hyperglycemic threshold is 180mg/dl and hypoglycemic threshold 70mg/dl."
      ],
      "metadata": {
        "id": "fq6cyIpjONtw"
      }
    },
    {
      "cell_type": "code",
      "source": [
        "\n",
        "plt.plot(bgdf['value'])\n",
        "plt.axhline(y = 180, color = 'y', linestyle = '-',label = 'Hyperglycemia')\n",
        "plt.axhline(y = 70, color = 'r', linestyle = '-', label = 'Hypoglycemia')\n",
        "plt.legend()\n",
        "\n"
      ],
      "metadata": {
        "id": "MYabzAaAY_9m",
        "colab": {
          "base_uri": "https://localhost:8080/",
          "height": 280
        },
        "outputId": "11d7515e-34d8-4242-8740-7c9b0871f840"
      },
      "execution_count": 187,
      "outputs": [
        {
          "output_type": "execute_result",
          "data": {
            "text/plain": [
              "<matplotlib.legend.Legend at 0x7fdbedb31c10>"
            ]
          },
          "metadata": {},
          "execution_count": 187
        },
        {
          "output_type": "display_data",
          "data": {
            "image/png": "[encoded data removed]",
            "text/plain": [
              "<Figure size 432x288 with 1 Axes>"
            ]
          },
          "metadata": {
            "needs_background": "light"
          }
        }
      ]
    },
    {
      "cell_type": "markdown",
      "source": [
        "### Loading Carbohydrate Data"
      ],
      "metadata": {
        "id": "1b_oWOM2O36x"
      }
    },
    {
      "cell_type": "code",
      "execution_count": 188,
      "metadata": {
        "id": "xRRnRobGl0pz",
        "colab": {
          "base_uri": "https://localhost:8080/",
          "height": 629
        },
        "outputId": "9354c016-28d4-488c-c008-2cb729405e9c"
      },
      "outputs": [
        {
          "output_type": "execute_result",
          "data": {
            "text/html": [
              "<div>\n",
              "<style scoped>\n",
              "    .dataframe tbody tr th:only-of-type {\n",
              "        vertical-align: middle;\n",
              "    }\n",
              "\n",
              "    .dataframe tbody tr th {\n",
              "        vertical-align: top;\n",
              "    }\n",
              "\n",
              "    .dataframe thead th {\n",
              "        text-align: right;\n",
              "    }\n",
              "</style>\n",
              "<table border=\"1\" class=\"dataframe\">\n",
              "  <thead>\n",
              "    <tr style=\"text-align: right;\">\n",
              "      <th></th>\n",
              "      <th>type</th>\n",
              "      <th>sourceName</th>\n",
              "      <th>value</th>\n",
              "      <th>unit</th>\n",
              "      <th>startDate</th>\n",
              "      <th>endDate</th>\n",
              "      <th>creationDate</th>\n",
              "      <th>com.loopkit.InsulinKit.MetadataKeyProgrammedTempBasalRate</th>\n",
              "      <th>com.loopkit.InsulinKit.MetadataKeyScheduledBasalRate</th>\n",
              "      <th>com.loudnate.CarbKit.HKMetadataKey.AbsorptionTimeMinutes</th>\n",
              "      <th>FitzpatrickSkinType</th>\n",
              "      <th>HKMetadataKeySyncVersion</th>\n",
              "      <th>CardioFitnessMedicationsUse</th>\n",
              "      <th>sourceVersion</th>\n",
              "      <th>HasLoopKitOrigin</th>\n",
              "      <th>Transmitter Time</th>\n",
              "      <th>Status</th>\n",
              "      <th>BloodType</th>\n",
              "      <th>BiologicalSex</th>\n",
              "      <th>Trend Arrow</th>\n",
              "      <th>HKInsulinDeliveryReason</th>\n",
              "      <th>HKMetadataKeyDevicePlacementSide</th>\n",
              "      <th>com.loudnate.GlucoseKit.HKMetadataKey.GlucoseIsDisplayOnly</th>\n",
              "      <th>HKFoodType</th>\n",
              "      <th>device</th>\n",
              "      <th>DateOfBirth</th>\n",
              "      <th>HKTimeZone</th>\n",
              "      <th>HKDeviceName</th>\n",
              "      <th>Trend Rate</th>\n",
              "      <th>HKWasUserEntered</th>\n",
              "      <th>HKMetadataKeySyncIdentifier</th>\n",
              "    </tr>\n",
              "  </thead>\n",
              "  <tbody>\n",
              "    <tr>\n",
              "      <th>0</th>\n",
              "      <td>DietaryCarbohydrates</td>\n",
              "      <td>Loop</td>\n",
              "      <td>113.0</td>\n",
              "      <td>g</td>\n",
              "      <td>10/31/21 22:10</td>\n",
              "      <td>10/31/21 22:10</td>\n",
              "      <td>10/31/21 22:10</td>\n",
              "      <td>NaN</td>\n",
              "      <td>NaN</td>\n",
              "      <td>14400</td>\n",
              "      <td>NaN</td>\n",
              "      <td>1</td>\n",
              "      <td>NaN</td>\n",
              "      <td>57</td>\n",
              "      <td>NaN</td>\n",
              "      <td>NaN</td>\n",
              "      <td>NaN</td>\n",
              "      <td>NaN</td>\n",
              "      <td>NaN</td>\n",
              "      <td>NaN</td>\n",
              "      <td>NaN</td>\n",
              "      <td>NaN</td>\n",
              "      <td>NaN</td>\n",
              "      <td>salad cb</td>\n",
              "      <td>NaN</td>\n",
              "      <td>NaN</td>\n",
              "      <td>NaN</td>\n",
              "      <td>NaN</td>\n",
              "      <td>NaN</td>\n",
              "      <td>NaN</td>\n",
              "      <td>FFA616A1-0FF5-42CE-8169-CFF32DDC5234</td>\n",
              "    </tr>\n",
              "    <tr>\n",
              "      <th>1</th>\n",
              "      <td>DietaryCarbohydrates</td>\n",
              "      <td>Loop</td>\n",
              "      <td>41.0</td>\n",
              "      <td>g</td>\n",
              "      <td>10/31/21 19:00</td>\n",
              "      <td>10/31/21 19:00</td>\n",
              "      <td>10/31/21 19:00</td>\n",
              "      <td>NaN</td>\n",
              "      <td>NaN</td>\n",
              "      <td>10800</td>\n",
              "      <td>NaN</td>\n",
              "      <td>1</td>\n",
              "      <td>NaN</td>\n",
              "      <td>57</td>\n",
              "      <td>NaN</td>\n",
              "      <td>NaN</td>\n",
              "      <td>NaN</td>\n",
              "      <td>NaN</td>\n",
              "      <td>NaN</td>\n",
              "      <td>NaN</td>\n",
              "      <td>NaN</td>\n",
              "      <td>NaN</td>\n",
              "      <td>NaN</td>\n",
              "      <td>grapes c&amp;c pbj</td>\n",
              "      <td>NaN</td>\n",
              "      <td>NaN</td>\n",
              "      <td>NaN</td>\n",
              "      <td>NaN</td>\n",
              "      <td>NaN</td>\n",
              "      <td>NaN</td>\n",
              "      <td>F00BAD19-691F-40B0-89D0-6E494EA03E28</td>\n",
              "    </tr>\n",
              "    <tr>\n",
              "      <th>2</th>\n",
              "      <td>DietaryCarbohydrates</td>\n",
              "      <td>Loop</td>\n",
              "      <td>41.0</td>\n",
              "      <td>g</td>\n",
              "      <td>10/31/21 10:02</td>\n",
              "      <td>10/31/21 10:02</td>\n",
              "      <td>10/31/21 10:02</td>\n",
              "      <td>NaN</td>\n",
              "      <td>NaN</td>\n",
              "      <td>7200</td>\n",
              "      <td>NaN</td>\n",
              "      <td>1</td>\n",
              "      <td>NaN</td>\n",
              "      <td>57</td>\n",
              "      <td>NaN</td>\n",
              "      <td>NaN</td>\n",
              "      <td>NaN</td>\n",
              "      <td>NaN</td>\n",
              "      <td>NaN</td>\n",
              "      <td>NaN</td>\n",
              "      <td>NaN</td>\n",
              "      <td>NaN</td>\n",
              "      <td>NaN</td>\n",
              "      <td>grapes c&amp;c</td>\n",
              "      <td>NaN</td>\n",
              "      <td>NaN</td>\n",
              "      <td>NaN</td>\n",
              "      <td>NaN</td>\n",
              "      <td>NaN</td>\n",
              "      <td>NaN</td>\n",
              "      <td>A3AD5E02-9EDA-4B31-A75E-F79D28C761A8</td>\n",
              "    </tr>\n",
              "    <tr>\n",
              "      <th>3</th>\n",
              "      <td>DietaryCarbohydrates</td>\n",
              "      <td>Loop</td>\n",
              "      <td>129.0</td>\n",
              "      <td>g</td>\n",
              "      <td>10/30/21 22:43</td>\n",
              "      <td>10/30/21 22:43</td>\n",
              "      <td>10/30/21 22:44</td>\n",
              "      <td>NaN</td>\n",
              "      <td>NaN</td>\n",
              "      <td>14400</td>\n",
              "      <td>NaN</td>\n",
              "      <td>1</td>\n",
              "      <td>NaN</td>\n",
              "      <td>57</td>\n",
              "      <td>NaN</td>\n",
              "      <td>NaN</td>\n",
              "      <td>NaN</td>\n",
              "      <td>NaN</td>\n",
              "      <td>NaN</td>\n",
              "      <td>NaN</td>\n",
              "      <td>NaN</td>\n",
              "      <td>NaN</td>\n",
              "      <td>NaN</td>\n",
              "      <td>eggs rolls pbj</td>\n",
              "      <td>NaN</td>\n",
              "      <td>NaN</td>\n",
              "      <td>NaN</td>\n",
              "      <td>NaN</td>\n",
              "      <td>NaN</td>\n",
              "      <td>NaN</td>\n",
              "      <td>D449FC63-5104-4D4E-998D-44DCE4C89294</td>\n",
              "    </tr>\n",
              "    <tr>\n",
              "      <th>4</th>\n",
              "      <td>DietaryCarbohydrates</td>\n",
              "      <td>Loop</td>\n",
              "      <td>41.0</td>\n",
              "      <td>g</td>\n",
              "      <td>10/30/21 18:53</td>\n",
              "      <td>10/30/21 18:53</td>\n",
              "      <td>10/30/21 18:54</td>\n",
              "      <td>NaN</td>\n",
              "      <td>NaN</td>\n",
              "      <td>10800</td>\n",
              "      <td>NaN</td>\n",
              "      <td>1</td>\n",
              "      <td>NaN</td>\n",
              "      <td>57</td>\n",
              "      <td>NaN</td>\n",
              "      <td>NaN</td>\n",
              "      <td>NaN</td>\n",
              "      <td>NaN</td>\n",
              "      <td>NaN</td>\n",
              "      <td>NaN</td>\n",
              "      <td>NaN</td>\n",
              "      <td>NaN</td>\n",
              "      <td>NaN</td>\n",
              "      <td>grapes c&amp;c pbj</td>\n",
              "      <td>NaN</td>\n",
              "      <td>NaN</td>\n",
              "      <td>NaN</td>\n",
              "      <td>NaN</td>\n",
              "      <td>NaN</td>\n",
              "      <td>NaN</td>\n",
              "      <td>646F79C0-A8B5-4132-8F8B-8BE5C3C892F6</td>\n",
              "    </tr>\n",
              "    <tr>\n",
              "      <th>...</th>\n",
              "      <td>...</td>\n",
              "      <td>...</td>\n",
              "      <td>...</td>\n",
              "      <td>...</td>\n",
              "      <td>...</td>\n",
              "      <td>...</td>\n",
              "      <td>...</td>\n",
              "      <td>...</td>\n",
              "      <td>...</td>\n",
              "      <td>...</td>\n",
              "      <td>...</td>\n",
              "      <td>...</td>\n",
              "      <td>...</td>\n",
              "      <td>...</td>\n",
              "      <td>...</td>\n",
              "      <td>...</td>\n",
              "      <td>...</td>\n",
              "      <td>...</td>\n",
              "      <td>...</td>\n",
              "      <td>...</td>\n",
              "      <td>...</td>\n",
              "      <td>...</td>\n",
              "      <td>...</td>\n",
              "      <td>...</td>\n",
              "      <td>...</td>\n",
              "      <td>...</td>\n",
              "      <td>...</td>\n",
              "      <td>...</td>\n",
              "      <td>...</td>\n",
              "      <td>...</td>\n",
              "      <td>...</td>\n",
              "    </tr>\n",
              "    <tr>\n",
              "      <th>1275</th>\n",
              "      <td>DietaryCarbohydrates</td>\n",
              "      <td>Loop</td>\n",
              "      <td>98.0</td>\n",
              "      <td>g</td>\n",
              "      <td>11/27/20 23:20</td>\n",
              "      <td>11/27/20 23:20</td>\n",
              "      <td>11/27/20 23:22</td>\n",
              "      <td>NaN</td>\n",
              "      <td>NaN</td>\n",
              "      <td>10800</td>\n",
              "      <td>NaN</td>\n",
              "      <td>1</td>\n",
              "      <td>NaN</td>\n",
              "      <td>57</td>\n",
              "      <td>NaN</td>\n",
              "      <td>NaN</td>\n",
              "      <td>NaN</td>\n",
              "      <td>NaN</td>\n",
              "      <td>NaN</td>\n",
              "      <td>NaN</td>\n",
              "      <td>NaN</td>\n",
              "      <td>NaN</td>\n",
              "      <td>NaN</td>\n",
              "      <td>salad cornbread 92,111</td>\n",
              "      <td>NaN</td>\n",
              "      <td>NaN</td>\n",
              "      <td>NaN</td>\n",
              "      <td>NaN</td>\n",
              "      <td>NaN</td>\n",
              "      <td>NaN</td>\n",
              "      <td>9D494DA8-6B7E-4544-BC69-57F18DC9392C</td>\n",
              "    </tr>\n",
              "    <tr>\n",
              "      <th>1276</th>\n",
              "      <td>DietaryCarbohydrates</td>\n",
              "      <td>Loop</td>\n",
              "      <td>16.0</td>\n",
              "      <td>g</td>\n",
              "      <td>11/27/20 21:05</td>\n",
              "      <td>11/27/20 21:05</td>\n",
              "      <td>11/27/20 21:07</td>\n",
              "      <td>NaN</td>\n",
              "      <td>NaN</td>\n",
              "      <td>10800</td>\n",
              "      <td>NaN</td>\n",
              "      <td>1</td>\n",
              "      <td>NaN</td>\n",
              "      <td>57</td>\n",
              "      <td>NaN</td>\n",
              "      <td>NaN</td>\n",
              "      <td>NaN</td>\n",
              "      <td>NaN</td>\n",
              "      <td>NaN</td>\n",
              "      <td>NaN</td>\n",
              "      <td>NaN</td>\n",
              "      <td>NaN</td>\n",
              "      <td>NaN</td>\n",
              "      <td>1/2   juice c&amp;c grapes</td>\n",
              "      <td>NaN</td>\n",
              "      <td>NaN</td>\n",
              "      <td>NaN</td>\n",
              "      <td>NaN</td>\n",
              "      <td>NaN</td>\n",
              "      <td>NaN</td>\n",
              "      <td>B41CEC83-04D5-4D83-AA9C-E3FBAA7C84CB</td>\n",
              "    </tr>\n",
              "    <tr>\n",
              "      <th>1277</th>\n",
              "      <td>DietaryCarbohydrates</td>\n",
              "      <td>Loop</td>\n",
              "      <td>16.0</td>\n",
              "      <td>g</td>\n",
              "      <td>11/27/20 13:18</td>\n",
              "      <td>11/27/20 13:18</td>\n",
              "      <td>11/27/20 13:27</td>\n",
              "      <td>NaN</td>\n",
              "      <td>NaN</td>\n",
              "      <td>10800</td>\n",
              "      <td>NaN</td>\n",
              "      <td>2</td>\n",
              "      <td>NaN</td>\n",
              "      <td>57</td>\n",
              "      <td>NaN</td>\n",
              "      <td>NaN</td>\n",
              "      <td>NaN</td>\n",
              "      <td>NaN</td>\n",
              "      <td>NaN</td>\n",
              "      <td>NaN</td>\n",
              "      <td>NaN</td>\n",
              "      <td>NaN</td>\n",
              "      <td>NaN</td>\n",
              "      <td>c&amp;c, grapes</td>\n",
              "      <td>NaN</td>\n",
              "      <td>NaN</td>\n",
              "      <td>NaN</td>\n",
              "      <td>NaN</td>\n",
              "      <td>NaN</td>\n",
              "      <td>NaN</td>\n",
              "      <td>9834704F-BA5C-4DDF-BCB5-29CE2134A291</td>\n",
              "    </tr>\n",
              "    <tr>\n",
              "      <th>1278</th>\n",
              "      <td>DietaryCarbohydrates</td>\n",
              "      <td>Loop</td>\n",
              "      <td>16.0</td>\n",
              "      <td>g</td>\n",
              "      <td>11/27/20 10:36</td>\n",
              "      <td>11/27/20 10:36</td>\n",
              "      <td>11/27/20 13:27</td>\n",
              "      <td>NaN</td>\n",
              "      <td>NaN</td>\n",
              "      <td>7200</td>\n",
              "      <td>NaN</td>\n",
              "      <td>2</td>\n",
              "      <td>NaN</td>\n",
              "      <td>57</td>\n",
              "      <td>NaN</td>\n",
              "      <td>NaN</td>\n",
              "      <td>NaN</td>\n",
              "      <td>NaN</td>\n",
              "      <td>NaN</td>\n",
              "      <td>NaN</td>\n",
              "      <td>NaN</td>\n",
              "      <td>NaN</td>\n",
              "      <td>NaN</td>\n",
              "      <td>juice bottle</td>\n",
              "      <td>NaN</td>\n",
              "      <td>NaN</td>\n",
              "      <td>NaN</td>\n",
              "      <td>NaN</td>\n",
              "      <td>NaN</td>\n",
              "      <td>NaN</td>\n",
              "      <td>BDA0B662-6BD4-4398-A21E-27A22558A9DA</td>\n",
              "    </tr>\n",
              "    <tr>\n",
              "      <th>1279</th>\n",
              "      <td>DietaryCarbohydrates</td>\n",
              "      <td>Loop</td>\n",
              "      <td>16.0</td>\n",
              "      <td>g</td>\n",
              "      <td>11/27/20 8:53</td>\n",
              "      <td>11/27/20 8:53</td>\n",
              "      <td>11/27/20 13:26</td>\n",
              "      <td>NaN</td>\n",
              "      <td>NaN</td>\n",
              "      <td>7200</td>\n",
              "      <td>NaN</td>\n",
              "      <td>2</td>\n",
              "      <td>NaN</td>\n",
              "      <td>57</td>\n",
              "      <td>NaN</td>\n",
              "      <td>NaN</td>\n",
              "      <td>NaN</td>\n",
              "      <td>NaN</td>\n",
              "      <td>NaN</td>\n",
              "      <td>NaN</td>\n",
              "      <td>NaN</td>\n",
              "      <td>NaN</td>\n",
              "      <td>NaN</td>\n",
              "      <td>juice bottle</td>\n",
              "      <td>NaN</td>\n",
              "      <td>NaN</td>\n",
              "      <td>NaN</td>\n",
              "      <td>NaN</td>\n",
              "      <td>NaN</td>\n",
              "      <td>NaN</td>\n",
              "      <td>4CA16060-1449-4CEA-925E-B001F82EF33C</td>\n",
              "    </tr>\n",
              "  </tbody>\n",
              "</table>\n",
              "<p>1280 rows × 31 columns</p>\n",
              "</div>"
            ],
            "text/plain": [
              "                      type  ...           HKMetadataKeySyncIdentifier\n",
              "0     DietaryCarbohydrates  ...  FFA616A1-0FF5-42CE-8169-CFF32DDC5234\n",
              "1     DietaryCarbohydrates  ...  F00BAD19-691F-40B0-89D0-6E494EA03E28\n",
              "2     DietaryCarbohydrates  ...  A3AD5E02-9EDA-4B31-A75E-F79D28C761A8\n",
              "3     DietaryCarbohydrates  ...  D449FC63-5104-4D4E-998D-44DCE4C89294\n",
              "4     DietaryCarbohydrates  ...  646F79C0-A8B5-4132-8F8B-8BE5C3C892F6\n",
              "...                    ...  ...                                   ...\n",
              "1275  DietaryCarbohydrates  ...  9D494DA8-6B7E-4544-BC69-57F18DC9392C\n",
              "1276  DietaryCarbohydrates  ...  B41CEC83-04D5-4D83-AA9C-E3FBAA7C84CB\n",
              "1277  DietaryCarbohydrates  ...  9834704F-BA5C-4DDF-BCB5-29CE2134A291\n",
              "1278  DietaryCarbohydrates  ...  BDA0B662-6BD4-4398-A21E-27A22558A9DA\n",
              "1279  DietaryCarbohydrates  ...  4CA16060-1449-4CEA-925E-B001F82EF33C\n",
              "\n",
              "[1280 rows x 31 columns]"
            ]
          },
          "metadata": {},
          "execution_count": 188
        }
      ],
      "source": [
        "carbsdf = pd.read_csv(\"carbs-Table 1.csv\")\n",
        "carbsdf\n"
      ]
    },
    {
      "cell_type": "markdown",
      "source": [
        "Again, dropping internal Loop states and keeping only the timestamps and carbohydrate intake values."
      ],
      "metadata": {
        "id": "zgiUuY6-PLCY"
      }
    },
    {
      "cell_type": "code",
      "execution_count": 189,
      "metadata": {
        "id": "UwzArmUGx3FV",
        "colab": {
          "base_uri": "https://localhost:8080/",
          "height": 411
        },
        "outputId": "2e025254-4353-40d4-8629-ae88598f2f30"
      },
      "outputs": [
        {
          "output_type": "execute_result",
          "data": {
            "text/html": [
              "<div>\n",
              "<style scoped>\n",
              "    .dataframe tbody tr th:only-of-type {\n",
              "        vertical-align: middle;\n",
              "    }\n",
              "\n",
              "    .dataframe tbody tr th {\n",
              "        vertical-align: top;\n",
              "    }\n",
              "\n",
              "    .dataframe thead th {\n",
              "        text-align: right;\n",
              "    }\n",
              "</style>\n",
              "<table border=\"1\" class=\"dataframe\">\n",
              "  <thead>\n",
              "    <tr style=\"text-align: right;\">\n",
              "      <th></th>\n",
              "      <th>startDate</th>\n",
              "      <th>value</th>\n",
              "    </tr>\n",
              "  </thead>\n",
              "  <tbody>\n",
              "    <tr>\n",
              "      <th>0</th>\n",
              "      <td>2021-10-31 22:10:00</td>\n",
              "      <td>113.0</td>\n",
              "    </tr>\n",
              "    <tr>\n",
              "      <th>1</th>\n",
              "      <td>2021-10-31 19:00:00</td>\n",
              "      <td>41.0</td>\n",
              "    </tr>\n",
              "    <tr>\n",
              "      <th>2</th>\n",
              "      <td>2021-10-31 10:02:00</td>\n",
              "      <td>41.0</td>\n",
              "    </tr>\n",
              "    <tr>\n",
              "      <th>3</th>\n",
              "      <td>2021-10-30 22:43:00</td>\n",
              "      <td>129.0</td>\n",
              "    </tr>\n",
              "    <tr>\n",
              "      <th>4</th>\n",
              "      <td>2021-10-30 18:53:00</td>\n",
              "      <td>41.0</td>\n",
              "    </tr>\n",
              "    <tr>\n",
              "      <th>...</th>\n",
              "      <td>...</td>\n",
              "      <td>...</td>\n",
              "    </tr>\n",
              "    <tr>\n",
              "      <th>1275</th>\n",
              "      <td>2020-11-27 23:20:00</td>\n",
              "      <td>98.0</td>\n",
              "    </tr>\n",
              "    <tr>\n",
              "      <th>1276</th>\n",
              "      <td>2020-11-27 21:05:00</td>\n",
              "      <td>16.0</td>\n",
              "    </tr>\n",
              "    <tr>\n",
              "      <th>1277</th>\n",
              "      <td>2020-11-27 13:18:00</td>\n",
              "      <td>16.0</td>\n",
              "    </tr>\n",
              "    <tr>\n",
              "      <th>1278</th>\n",
              "      <td>2020-11-27 10:36:00</td>\n",
              "      <td>16.0</td>\n",
              "    </tr>\n",
              "    <tr>\n",
              "      <th>1279</th>\n",
              "      <td>2020-11-27 08:53:00</td>\n",
              "      <td>16.0</td>\n",
              "    </tr>\n",
              "  </tbody>\n",
              "</table>\n",
              "<p>1280 rows × 2 columns</p>\n",
              "</div>"
            ],
            "text/plain": [
              "               startDate  value\n",
              "0    2021-10-31 22:10:00  113.0\n",
              "1    2021-10-31 19:00:00   41.0\n",
              "2    2021-10-31 10:02:00   41.0\n",
              "3    2021-10-30 22:43:00  129.0\n",
              "4    2021-10-30 18:53:00   41.0\n",
              "...                  ...    ...\n",
              "1275 2020-11-27 23:20:00   98.0\n",
              "1276 2020-11-27 21:05:00   16.0\n",
              "1277 2020-11-27 13:18:00   16.0\n",
              "1278 2020-11-27 10:36:00   16.0\n",
              "1279 2020-11-27 08:53:00   16.0\n",
              "\n",
              "[1280 rows x 2 columns]"
            ]
          },
          "metadata": {},
          "execution_count": 189
        }
      ],
      "source": [
        "carbsdf = carbsdf[[\"startDate\",\"value\"]]\n",
        "carbsdf ['startDate'] = pd.to_datetime(carbsdf ['startDate'])\n",
        "carbsdf"
      ]
    },
    {
      "cell_type": "markdown",
      "source": [
        "### Carbohydrate Intake Stats"
      ],
      "metadata": {
        "id": "6cgpcxjmPVwa"
      }
    },
    {
      "cell_type": "code",
      "source": [
        "Cdays = carbsdf['startDate'][0] - carbsdf['startDate'][len(carbsdf)-1]\n",
        "avgmeals = len(carbsdf)/Cdays.days\n",
        "\"Average number of meals per day:\", avgmeals"
      ],
      "metadata": {
        "id": "CabZw4FSWCl1",
        "colab": {
          "base_uri": "https://localhost:8080/"
        },
        "outputId": "10bda15b-8654-4fa1-d86f-2443dccbb23e"
      },
      "execution_count": 190,
      "outputs": [
        {
          "output_type": "execute_result",
          "data": {
            "text/plain": [
              "('Average number of meals per day:', 3.78698224852071)"
            ]
          },
          "metadata": {},
          "execution_count": 190
        }
      ]
    },
    {
      "cell_type": "code",
      "source": [
        "max_carbs= carbsdf['value'].max()\n",
        "'Maximum Carbs:', max_carbs, 'g'"
      ],
      "metadata": {
        "id": "ucCmsREeUEzL",
        "colab": {
          "base_uri": "https://localhost:8080/"
        },
        "outputId": "0a00bbb0-7422-4ccd-cafa-733fde39658f"
      },
      "execution_count": 191,
      "outputs": [
        {
          "output_type": "execute_result",
          "data": {
            "text/plain": [
              "('Maximum Carbs:', 140.0, 'g')"
            ]
          },
          "metadata": {},
          "execution_count": 191
        }
      ]
    },
    {
      "cell_type": "markdown",
      "source": [
        "## Loading Insulin Data"
      ],
      "metadata": {
        "id": "tQjoLdFwPZZd"
      }
    },
    {
      "cell_type": "code",
      "execution_count": 192,
      "metadata": {
        "id": "JjU_Vb2fx9k_",
        "colab": {
          "base_uri": "https://localhost:8080/",
          "height": 942
        },
        "outputId": "9a1bdc1f-4988-4abc-80b6-05d38778ddee"
      },
      "outputs": [
        {
          "output_type": "execute_result",
          "data": {
            "text/html": [
              "<div>\n",
              "<style scoped>\n",
              "    .dataframe tbody tr th:only-of-type {\n",
              "        vertical-align: middle;\n",
              "    }\n",
              "\n",
              "    .dataframe tbody tr th {\n",
              "        vertical-align: top;\n",
              "    }\n",
              "\n",
              "    .dataframe thead th {\n",
              "        text-align: right;\n",
              "    }\n",
              "</style>\n",
              "<table border=\"1\" class=\"dataframe\">\n",
              "  <thead>\n",
              "    <tr style=\"text-align: right;\">\n",
              "      <th></th>\n",
              "      <th>type</th>\n",
              "      <th>sourceName</th>\n",
              "      <th>value</th>\n",
              "      <th>unit</th>\n",
              "      <th>startDate</th>\n",
              "      <th>endDate</th>\n",
              "      <th>creationDate</th>\n",
              "      <th>com.loopkit.InsulinKit.MetadataKeyProgrammedTempBasalRate</th>\n",
              "      <th>com.loopkit.InsulinKit.MetadataKeyScheduledBasalRate</th>\n",
              "      <th>com.loudnate.CarbKit.HKMetadataKey.AbsorptionTimeMinutes</th>\n",
              "      <th>FitzpatrickSkinType</th>\n",
              "      <th>HKMetadataKeySyncVersion</th>\n",
              "      <th>CardioFitnessMedicationsUse</th>\n",
              "      <th>sourceVersion</th>\n",
              "      <th>HasLoopKitOrigin</th>\n",
              "      <th>Transmitter Time</th>\n",
              "      <th>Status</th>\n",
              "      <th>BloodType</th>\n",
              "      <th>BiologicalSex</th>\n",
              "      <th>Trend Arrow</th>\n",
              "      <th>HKInsulinDeliveryReason</th>\n",
              "      <th>HKMetadataKeyDevicePlacementSide</th>\n",
              "      <th>com.loudnate.GlucoseKit.HKMetadataKey.GlucoseIsDisplayOnly</th>\n",
              "      <th>HKFoodType</th>\n",
              "      <th>device</th>\n",
              "      <th>DateOfBirth</th>\n",
              "      <th>HKTimeZone</th>\n",
              "      <th>HKDeviceName</th>\n",
              "      <th>Trend Rate</th>\n",
              "      <th>HKWasUserEntered</th>\n",
              "      <th>HKMetadataKeySyncIdentifier</th>\n",
              "    </tr>\n",
              "  </thead>\n",
              "  <tbody>\n",
              "    <tr>\n",
              "      <th>0</th>\n",
              "      <td>InsulinDelivery</td>\n",
              "      <td>Loop</td>\n",
              "      <td>0.05</td>\n",
              "      <td>IU</td>\n",
              "      <td>10/31/21 23:55</td>\n",
              "      <td>10/31/21 23:55</td>\n",
              "      <td>11/1/21 0:00</td>\n",
              "      <td>NaN</td>\n",
              "      <td>NaN</td>\n",
              "      <td>NaN</td>\n",
              "      <td>NaN</td>\n",
              "      <td>1</td>\n",
              "      <td>NaN</td>\n",
              "      <td>57</td>\n",
              "      <td>1</td>\n",
              "      <td>NaN</td>\n",
              "      <td>NaN</td>\n",
              "      <td>NaN</td>\n",
              "      <td>NaN</td>\n",
              "      <td>NaN</td>\n",
              "      <td>2</td>\n",
              "      <td>NaN</td>\n",
              "      <td>NaN</td>\n",
              "      <td>NaN</td>\n",
              "      <td>&lt;&lt;HKDevice: 0x280148050&gt;, name:Omnipod, manufa...</td>\n",
              "      <td>NaN</td>\n",
              "      <td>NaN</td>\n",
              "      <td>NaN</td>\n",
              "      <td>NaN</td>\n",
              "      <td>NaN</td>\n",
              "      <td>626f6c757320302e303520323032312d31312d30315430...</td>\n",
              "    </tr>\n",
              "    <tr>\n",
              "      <th>1</th>\n",
              "      <td>InsulinDelivery</td>\n",
              "      <td>Loop</td>\n",
              "      <td>0.10</td>\n",
              "      <td>IU</td>\n",
              "      <td>10/31/21 23:40</td>\n",
              "      <td>10/31/21 23:40</td>\n",
              "      <td>10/31/21 23:50</td>\n",
              "      <td>NaN</td>\n",
              "      <td>NaN</td>\n",
              "      <td>NaN</td>\n",
              "      <td>NaN</td>\n",
              "      <td>1</td>\n",
              "      <td>NaN</td>\n",
              "      <td>57</td>\n",
              "      <td>1</td>\n",
              "      <td>NaN</td>\n",
              "      <td>NaN</td>\n",
              "      <td>NaN</td>\n",
              "      <td>NaN</td>\n",
              "      <td>NaN</td>\n",
              "      <td>2</td>\n",
              "      <td>NaN</td>\n",
              "      <td>NaN</td>\n",
              "      <td>NaN</td>\n",
              "      <td>&lt;&lt;HKDevice: 0x280148050&gt;, name:Omnipod, manufa...</td>\n",
              "      <td>NaN</td>\n",
              "      <td>NaN</td>\n",
              "      <td>NaN</td>\n",
              "      <td>NaN</td>\n",
              "      <td>NaN</td>\n",
              "      <td>626f6c757320302e3120323032312d31312d3031543033...</td>\n",
              "    </tr>\n",
              "    <tr>\n",
              "      <th>2</th>\n",
              "      <td>InsulinDelivery</td>\n",
              "      <td>Loop</td>\n",
              "      <td>0.00</td>\n",
              "      <td>IU</td>\n",
              "      <td>10/31/21 23:05</td>\n",
              "      <td>10/31/21 23:25</td>\n",
              "      <td>10/31/21 23:25</td>\n",
              "      <td>0 IU/hr</td>\n",
              "      <td>0.4 IU/hr</td>\n",
              "      <td>NaN</td>\n",
              "      <td>NaN</td>\n",
              "      <td>1</td>\n",
              "      <td>NaN</td>\n",
              "      <td>57</td>\n",
              "      <td>1</td>\n",
              "      <td>NaN</td>\n",
              "      <td>NaN</td>\n",
              "      <td>NaN</td>\n",
              "      <td>NaN</td>\n",
              "      <td>NaN</td>\n",
              "      <td>1</td>\n",
              "      <td>NaN</td>\n",
              "      <td>NaN</td>\n",
              "      <td>NaN</td>\n",
              "      <td>&lt;&lt;HKDevice: 0x280148050&gt;, name:Omnipod, manufa...</td>\n",
              "      <td>NaN</td>\n",
              "      <td>NaN</td>\n",
              "      <td>NaN</td>\n",
              "      <td>NaN</td>\n",
              "      <td>NaN</td>\n",
              "      <td>74656d70426173616c20302e3020323032312d31312d30...</td>\n",
              "    </tr>\n",
              "    <tr>\n",
              "      <th>3</th>\n",
              "      <td>InsulinDelivery</td>\n",
              "      <td>Loop</td>\n",
              "      <td>0.00</td>\n",
              "      <td>IU</td>\n",
              "      <td>10/31/21 23:05</td>\n",
              "      <td>10/31/21 23:05</td>\n",
              "      <td>10/31/21 23:25</td>\n",
              "      <td>NaN</td>\n",
              "      <td>NaN</td>\n",
              "      <td>NaN</td>\n",
              "      <td>NaN</td>\n",
              "      <td>1</td>\n",
              "      <td>NaN</td>\n",
              "      <td>57</td>\n",
              "      <td>1</td>\n",
              "      <td>NaN</td>\n",
              "      <td>NaN</td>\n",
              "      <td>NaN</td>\n",
              "      <td>NaN</td>\n",
              "      <td>NaN</td>\n",
              "      <td>1</td>\n",
              "      <td>NaN</td>\n",
              "      <td>NaN</td>\n",
              "      <td>NaN</td>\n",
              "      <td>&lt;&lt;HKDevice: 0x280148050&gt;, name:Omnipod, manufa...</td>\n",
              "      <td>NaN</td>\n",
              "      <td>NaN</td>\n",
              "      <td>NaN</td>\n",
              "      <td>NaN</td>\n",
              "      <td>NaN</td>\n",
              "      <td>BasalRateSchedule 2021-11-01T03:05:36Z 2021-11...</td>\n",
              "    </tr>\n",
              "    <tr>\n",
              "      <th>4</th>\n",
              "      <td>InsulinDelivery</td>\n",
              "      <td>Loop</td>\n",
              "      <td>0.00</td>\n",
              "      <td>IU</td>\n",
              "      <td>10/31/21 22:45</td>\n",
              "      <td>10/31/21 23:05</td>\n",
              "      <td>10/31/21 23:05</td>\n",
              "      <td>0 IU/hr</td>\n",
              "      <td>0.4 IU/hr</td>\n",
              "      <td>NaN</td>\n",
              "      <td>NaN</td>\n",
              "      <td>1</td>\n",
              "      <td>NaN</td>\n",
              "      <td>57</td>\n",
              "      <td>1</td>\n",
              "      <td>NaN</td>\n",
              "      <td>NaN</td>\n",
              "      <td>NaN</td>\n",
              "      <td>NaN</td>\n",
              "      <td>NaN</td>\n",
              "      <td>1</td>\n",
              "      <td>NaN</td>\n",
              "      <td>NaN</td>\n",
              "      <td>NaN</td>\n",
              "      <td>&lt;&lt;HKDevice: 0x280148050&gt;, name:Omnipod, manufa...</td>\n",
              "      <td>NaN</td>\n",
              "      <td>NaN</td>\n",
              "      <td>NaN</td>\n",
              "      <td>NaN</td>\n",
              "      <td>NaN</td>\n",
              "      <td>74656d70426173616c20302e3020323032312d31312d30...</td>\n",
              "    </tr>\n",
              "    <tr>\n",
              "      <th>...</th>\n",
              "      <td>...</td>\n",
              "      <td>...</td>\n",
              "      <td>...</td>\n",
              "      <td>...</td>\n",
              "      <td>...</td>\n",
              "      <td>...</td>\n",
              "      <td>...</td>\n",
              "      <td>...</td>\n",
              "      <td>...</td>\n",
              "      <td>...</td>\n",
              "      <td>...</td>\n",
              "      <td>...</td>\n",
              "      <td>...</td>\n",
              "      <td>...</td>\n",
              "      <td>...</td>\n",
              "      <td>...</td>\n",
              "      <td>...</td>\n",
              "      <td>...</td>\n",
              "      <td>...</td>\n",
              "      <td>...</td>\n",
              "      <td>...</td>\n",
              "      <td>...</td>\n",
              "      <td>...</td>\n",
              "      <td>...</td>\n",
              "      <td>...</td>\n",
              "      <td>...</td>\n",
              "      <td>...</td>\n",
              "      <td>...</td>\n",
              "      <td>...</td>\n",
              "      <td>...</td>\n",
              "      <td>...</td>\n",
              "    </tr>\n",
              "    <tr>\n",
              "      <th>47969</th>\n",
              "      <td>InsulinDelivery</td>\n",
              "      <td>Loop</td>\n",
              "      <td>0.80</td>\n",
              "      <td>IU</td>\n",
              "      <td>11/27/20 5:00</td>\n",
              "      <td>11/27/20 6:00</td>\n",
              "      <td>11/27/20 9:52</td>\n",
              "      <td>NaN</td>\n",
              "      <td>NaN</td>\n",
              "      <td>NaN</td>\n",
              "      <td>NaN</td>\n",
              "      <td>1</td>\n",
              "      <td>NaN</td>\n",
              "      <td>57</td>\n",
              "      <td>1</td>\n",
              "      <td>NaN</td>\n",
              "      <td>NaN</td>\n",
              "      <td>NaN</td>\n",
              "      <td>NaN</td>\n",
              "      <td>NaN</td>\n",
              "      <td>1</td>\n",
              "      <td>NaN</td>\n",
              "      <td>NaN</td>\n",
              "      <td>NaN</td>\n",
              "      <td>&lt;&lt;HKDevice: 0x280154320&gt;, name:Omnipod, manufa...</td>\n",
              "      <td>NaN</td>\n",
              "      <td>NaN</td>\n",
              "      <td>NaN</td>\n",
              "      <td>NaN</td>\n",
              "      <td>NaN</td>\n",
              "      <td>BasalRateSchedule 2020-11-27T09:00:00Z 2020-11...</td>\n",
              "    </tr>\n",
              "    <tr>\n",
              "      <th>47970</th>\n",
              "      <td>InsulinDelivery</td>\n",
              "      <td>Loop</td>\n",
              "      <td>1.70</td>\n",
              "      <td>IU</td>\n",
              "      <td>11/27/20 3:00</td>\n",
              "      <td>11/27/20 5:00</td>\n",
              "      <td>11/27/20 9:52</td>\n",
              "      <td>NaN</td>\n",
              "      <td>NaN</td>\n",
              "      <td>NaN</td>\n",
              "      <td>NaN</td>\n",
              "      <td>1</td>\n",
              "      <td>NaN</td>\n",
              "      <td>57</td>\n",
              "      <td>1</td>\n",
              "      <td>NaN</td>\n",
              "      <td>NaN</td>\n",
              "      <td>NaN</td>\n",
              "      <td>NaN</td>\n",
              "      <td>NaN</td>\n",
              "      <td>1</td>\n",
              "      <td>NaN</td>\n",
              "      <td>NaN</td>\n",
              "      <td>NaN</td>\n",
              "      <td>&lt;&lt;HKDevice: 0x280154320&gt;, name:Omnipod, manufa...</td>\n",
              "      <td>NaN</td>\n",
              "      <td>NaN</td>\n",
              "      <td>NaN</td>\n",
              "      <td>NaN</td>\n",
              "      <td>NaN</td>\n",
              "      <td>BasalRateSchedule 2020-11-27T07:00:00Z 2020-11...</td>\n",
              "    </tr>\n",
              "    <tr>\n",
              "      <th>47971</th>\n",
              "      <td>InsulinDelivery</td>\n",
              "      <td>Loop</td>\n",
              "      <td>0.80</td>\n",
              "      <td>IU</td>\n",
              "      <td>11/27/20 2:00</td>\n",
              "      <td>11/27/20 3:00</td>\n",
              "      <td>11/27/20 9:52</td>\n",
              "      <td>NaN</td>\n",
              "      <td>NaN</td>\n",
              "      <td>NaN</td>\n",
              "      <td>NaN</td>\n",
              "      <td>1</td>\n",
              "      <td>NaN</td>\n",
              "      <td>57</td>\n",
              "      <td>1</td>\n",
              "      <td>NaN</td>\n",
              "      <td>NaN</td>\n",
              "      <td>NaN</td>\n",
              "      <td>NaN</td>\n",
              "      <td>NaN</td>\n",
              "      <td>1</td>\n",
              "      <td>NaN</td>\n",
              "      <td>NaN</td>\n",
              "      <td>NaN</td>\n",
              "      <td>&lt;&lt;HKDevice: 0x280154320&gt;, name:Omnipod, manufa...</td>\n",
              "      <td>NaN</td>\n",
              "      <td>NaN</td>\n",
              "      <td>NaN</td>\n",
              "      <td>NaN</td>\n",
              "      <td>NaN</td>\n",
              "      <td>BasalRateSchedule 2020-11-27T06:00:00Z 2020-11...</td>\n",
              "    </tr>\n",
              "    <tr>\n",
              "      <th>47972</th>\n",
              "      <td>InsulinDelivery</td>\n",
              "      <td>Loop</td>\n",
              "      <td>0.75</td>\n",
              "      <td>IU</td>\n",
              "      <td>11/27/20 1:00</td>\n",
              "      <td>11/27/20 2:00</td>\n",
              "      <td>11/27/20 9:52</td>\n",
              "      <td>NaN</td>\n",
              "      <td>NaN</td>\n",
              "      <td>NaN</td>\n",
              "      <td>NaN</td>\n",
              "      <td>1</td>\n",
              "      <td>NaN</td>\n",
              "      <td>57</td>\n",
              "      <td>1</td>\n",
              "      <td>NaN</td>\n",
              "      <td>NaN</td>\n",
              "      <td>NaN</td>\n",
              "      <td>NaN</td>\n",
              "      <td>NaN</td>\n",
              "      <td>1</td>\n",
              "      <td>NaN</td>\n",
              "      <td>NaN</td>\n",
              "      <td>NaN</td>\n",
              "      <td>&lt;&lt;HKDevice: 0x280154320&gt;, name:Omnipod, manufa...</td>\n",
              "      <td>NaN</td>\n",
              "      <td>NaN</td>\n",
              "      <td>NaN</td>\n",
              "      <td>NaN</td>\n",
              "      <td>NaN</td>\n",
              "      <td>BasalRateSchedule 2020-11-27T05:00:00Z 2020-11...</td>\n",
              "    </tr>\n",
              "    <tr>\n",
              "      <th>47973</th>\n",
              "      <td>InsulinDelivery</td>\n",
              "      <td>Loop</td>\n",
              "      <td>0.60</td>\n",
              "      <td>IU</td>\n",
              "      <td>11/27/20 0:00</td>\n",
              "      <td>11/27/20 1:00</td>\n",
              "      <td>11/27/20 9:52</td>\n",
              "      <td>NaN</td>\n",
              "      <td>NaN</td>\n",
              "      <td>NaN</td>\n",
              "      <td>NaN</td>\n",
              "      <td>1</td>\n",
              "      <td>NaN</td>\n",
              "      <td>57</td>\n",
              "      <td>1</td>\n",
              "      <td>NaN</td>\n",
              "      <td>NaN</td>\n",
              "      <td>NaN</td>\n",
              "      <td>NaN</td>\n",
              "      <td>NaN</td>\n",
              "      <td>1</td>\n",
              "      <td>NaN</td>\n",
              "      <td>NaN</td>\n",
              "      <td>NaN</td>\n",
              "      <td>&lt;&lt;HKDevice: 0x280154320&gt;, name:Omnipod, manufa...</td>\n",
              "      <td>NaN</td>\n",
              "      <td>NaN</td>\n",
              "      <td>NaN</td>\n",
              "      <td>NaN</td>\n",
              "      <td>NaN</td>\n",
              "      <td>BasalRateSchedule 2020-11-27T04:00:00Z 2020-11...</td>\n",
              "    </tr>\n",
              "  </tbody>\n",
              "</table>\n",
              "<p>47974 rows × 31 columns</p>\n",
              "</div>"
            ],
            "text/plain": [
              "                  type  ...                        HKMetadataKeySyncIdentifier\n",
              "0      InsulinDelivery  ...  626f6c757320302e303520323032312d31312d30315430...\n",
              "1      InsulinDelivery  ...  626f6c757320302e3120323032312d31312d3031543033...\n",
              "2      InsulinDelivery  ...  74656d70426173616c20302e3020323032312d31312d30...\n",
              "3      InsulinDelivery  ...  BasalRateSchedule 2021-11-01T03:05:36Z 2021-11...\n",
              "4      InsulinDelivery  ...  74656d70426173616c20302e3020323032312d31312d30...\n",
              "...                ...  ...                                                ...\n",
              "47969  InsulinDelivery  ...  BasalRateSchedule 2020-11-27T09:00:00Z 2020-11...\n",
              "47970  InsulinDelivery  ...  BasalRateSchedule 2020-11-27T07:00:00Z 2020-11...\n",
              "47971  InsulinDelivery  ...  BasalRateSchedule 2020-11-27T06:00:00Z 2020-11...\n",
              "47972  InsulinDelivery  ...  BasalRateSchedule 2020-11-27T05:00:00Z 2020-11...\n",
              "47973  InsulinDelivery  ...  BasalRateSchedule 2020-11-27T04:00:00Z 2020-11...\n",
              "\n",
              "[47974 rows x 31 columns]"
            ]
          },
          "metadata": {},
          "execution_count": 192
        }
      ],
      "source": [
        "insulindf = pd.read_csv(\"insulin-Table 1.csv\")\n",
        "insulindf"
      ]
    },
    {
      "cell_type": "code",
      "execution_count": 193,
      "metadata": {
        "id": "GQS_MWgf0qYo",
        "colab": {
          "base_uri": "https://localhost:8080/",
          "height": 411
        },
        "outputId": "d343dd85-0a22-41b0-a63d-935a0d754c3e"
      },
      "outputs": [
        {
          "output_type": "execute_result",
          "data": {
            "text/html": [
              "<div>\n",
              "<style scoped>\n",
              "    .dataframe tbody tr th:only-of-type {\n",
              "        vertical-align: middle;\n",
              "    }\n",
              "\n",
              "    .dataframe tbody tr th {\n",
              "        vertical-align: top;\n",
              "    }\n",
              "\n",
              "    .dataframe thead th {\n",
              "        text-align: right;\n",
              "    }\n",
              "</style>\n",
              "<table border=\"1\" class=\"dataframe\">\n",
              "  <thead>\n",
              "    <tr style=\"text-align: right;\">\n",
              "      <th></th>\n",
              "      <th>startDate</th>\n",
              "      <th>endDate</th>\n",
              "      <th>value</th>\n",
              "      <th>time_duration(sec)</th>\n",
              "    </tr>\n",
              "  </thead>\n",
              "  <tbody>\n",
              "    <tr>\n",
              "      <th>0</th>\n",
              "      <td>2021-10-31 23:55:00</td>\n",
              "      <td>2021-10-31 23:55:00</td>\n",
              "      <td>0.05</td>\n",
              "      <td>0</td>\n",
              "    </tr>\n",
              "    <tr>\n",
              "      <th>1</th>\n",
              "      <td>2021-10-31 23:40:00</td>\n",
              "      <td>2021-10-31 23:40:00</td>\n",
              "      <td>0.10</td>\n",
              "      <td>0</td>\n",
              "    </tr>\n",
              "    <tr>\n",
              "      <th>2</th>\n",
              "      <td>2021-10-31 23:05:00</td>\n",
              "      <td>2021-10-31 23:25:00</td>\n",
              "      <td>0.00</td>\n",
              "      <td>1200</td>\n",
              "    </tr>\n",
              "    <tr>\n",
              "      <th>3</th>\n",
              "      <td>2021-10-31 23:05:00</td>\n",
              "      <td>2021-10-31 23:05:00</td>\n",
              "      <td>0.00</td>\n",
              "      <td>0</td>\n",
              "    </tr>\n",
              "    <tr>\n",
              "      <th>4</th>\n",
              "      <td>2021-10-31 22:45:00</td>\n",
              "      <td>2021-10-31 23:05:00</td>\n",
              "      <td>0.00</td>\n",
              "      <td>1200</td>\n",
              "    </tr>\n",
              "    <tr>\n",
              "      <th>...</th>\n",
              "      <td>...</td>\n",
              "      <td>...</td>\n",
              "      <td>...</td>\n",
              "      <td>...</td>\n",
              "    </tr>\n",
              "    <tr>\n",
              "      <th>47969</th>\n",
              "      <td>2020-11-27 05:00:00</td>\n",
              "      <td>2020-11-27 06:00:00</td>\n",
              "      <td>0.80</td>\n",
              "      <td>3600</td>\n",
              "    </tr>\n",
              "    <tr>\n",
              "      <th>47970</th>\n",
              "      <td>2020-11-27 03:00:00</td>\n",
              "      <td>2020-11-27 05:00:00</td>\n",
              "      <td>1.70</td>\n",
              "      <td>7200</td>\n",
              "    </tr>\n",
              "    <tr>\n",
              "      <th>47971</th>\n",
              "      <td>2020-11-27 02:00:00</td>\n",
              "      <td>2020-11-27 03:00:00</td>\n",
              "      <td>0.80</td>\n",
              "      <td>3600</td>\n",
              "    </tr>\n",
              "    <tr>\n",
              "      <th>47972</th>\n",
              "      <td>2020-11-27 01:00:00</td>\n",
              "      <td>2020-11-27 02:00:00</td>\n",
              "      <td>0.75</td>\n",
              "      <td>3600</td>\n",
              "    </tr>\n",
              "    <tr>\n",
              "      <th>47973</th>\n",
              "      <td>2020-11-27 00:00:00</td>\n",
              "      <td>2020-11-27 01:00:00</td>\n",
              "      <td>0.60</td>\n",
              "      <td>3600</td>\n",
              "    </tr>\n",
              "  </tbody>\n",
              "</table>\n",
              "<p>47974 rows × 4 columns</p>\n",
              "</div>"
            ],
            "text/plain": [
              "                startDate             endDate  value  time_duration(sec)\n",
              "0     2021-10-31 23:55:00 2021-10-31 23:55:00   0.05                   0\n",
              "1     2021-10-31 23:40:00 2021-10-31 23:40:00   0.10                   0\n",
              "2     2021-10-31 23:05:00 2021-10-31 23:25:00   0.00                1200\n",
              "3     2021-10-31 23:05:00 2021-10-31 23:05:00   0.00                   0\n",
              "4     2021-10-31 22:45:00 2021-10-31 23:05:00   0.00                1200\n",
              "...                   ...                 ...    ...                 ...\n",
              "47969 2020-11-27 05:00:00 2020-11-27 06:00:00   0.80                3600\n",
              "47970 2020-11-27 03:00:00 2020-11-27 05:00:00   1.70                7200\n",
              "47971 2020-11-27 02:00:00 2020-11-27 03:00:00   0.80                3600\n",
              "47972 2020-11-27 01:00:00 2020-11-27 02:00:00   0.75                3600\n",
              "47973 2020-11-27 00:00:00 2020-11-27 01:00:00   0.60                3600\n",
              "\n",
              "[47974 rows x 4 columns]"
            ]
          },
          "metadata": {},
          "execution_count": 193
        }
      ],
      "source": [
        "bolusdf = insulindf[['startDate','endDate','value']]\n",
        "bolusdf['startDate'] =  pd.to_datetime(insulindf['startDate'])\n",
        "bolusdf['endDate'] =  pd.to_datetime(insulindf['endDate'])\n",
        "time_duration = bolusdf['endDate'] - bolusdf['startDate']\n",
        "time_duration = time_duration.dt.seconds\n",
        "bolusdf['time_duration(sec)'] = time_duration \n",
        "bolusdf"
      ]
    },
    {
      "cell_type": "markdown",
      "source": [
        "We add an extra column ``` time_duration ``` which calculates how long an insulin dose was given for. We only want to consider boluses in our model so we drop all rows which have an insulin dose less than 0.6 IU or took over 10 minutes to deliver.\n",
        "\n",
        "\n",
        "\n"
      ],
      "metadata": {
        "id": "3XFRZCpjPfly"
      }
    },
    {
      "cell_type": "code",
      "execution_count": 194,
      "metadata": {
        "id": "tTdjxMGv16q1"
      },
      "outputs": [],
      "source": [
        "# Dropping basal values\n",
        "basal_val1 = bolusdf[bolusdf['value']<0.6 ].index\n",
        "bolusdf.drop(basal_val1 , inplace=True)\n",
        "basal_val2 = bolusdf[bolusdf['time_duration(sec)']>600].index\n",
        "bolusdf.drop(basal_val2 , inplace=True)\n",
        "bolusdf = bolusdf.drop(['time_duration(sec)','endDate'],axis=1)"
      ]
    },
    {
      "cell_type": "code",
      "source": [
        "bolusdf"
      ],
      "metadata": {
        "colab": {
          "base_uri": "https://localhost:8080/",
          "height": 411
        },
        "id": "7K1ob6LrYKvi",
        "outputId": "e82aec01-ee3c-486d-9bb0-68d0820e3e27"
      },
      "execution_count": 195,
      "outputs": [
        {
          "output_type": "execute_result",
          "data": {
            "text/html": [
              "<div>\n",
              "<style scoped>\n",
              "    .dataframe tbody tr th:only-of-type {\n",
              "        vertical-align: middle;\n",
              "    }\n",
              "\n",
              "    .dataframe tbody tr th {\n",
              "        vertical-align: top;\n",
              "    }\n",
              "\n",
              "    .dataframe thead th {\n",
              "        text-align: right;\n",
              "    }\n",
              "</style>\n",
              "<table border=\"1\" class=\"dataframe\">\n",
              "  <thead>\n",
              "    <tr style=\"text-align: right;\">\n",
              "      <th></th>\n",
              "      <th>startDate</th>\n",
              "      <th>value</th>\n",
              "    </tr>\n",
              "  </thead>\n",
              "  <tbody>\n",
              "    <tr>\n",
              "      <th>7</th>\n",
              "      <td>2021-10-31 22:10:00</td>\n",
              "      <td>3.75</td>\n",
              "    </tr>\n",
              "    <tr>\n",
              "      <th>18</th>\n",
              "      <td>2021-10-31 19:00:00</td>\n",
              "      <td>1.55</td>\n",
              "    </tr>\n",
              "    <tr>\n",
              "      <th>67</th>\n",
              "      <td>2021-10-31 10:02:00</td>\n",
              "      <td>1.60</td>\n",
              "    </tr>\n",
              "    <tr>\n",
              "      <th>129</th>\n",
              "      <td>2021-10-30 22:44:00</td>\n",
              "      <td>4.25</td>\n",
              "    </tr>\n",
              "    <tr>\n",
              "      <th>149</th>\n",
              "      <td>2021-10-30 18:54:00</td>\n",
              "      <td>1.65</td>\n",
              "    </tr>\n",
              "    <tr>\n",
              "      <th>...</th>\n",
              "      <td>...</td>\n",
              "      <td>...</td>\n",
              "    </tr>\n",
              "    <tr>\n",
              "      <th>47924</th>\n",
              "      <td>2020-11-28 21:13:00</td>\n",
              "      <td>7.30</td>\n",
              "    </tr>\n",
              "    <tr>\n",
              "      <th>47938</th>\n",
              "      <td>2020-11-28 16:44:00</td>\n",
              "      <td>2.40</td>\n",
              "    </tr>\n",
              "    <tr>\n",
              "      <th>47941</th>\n",
              "      <td>2020-11-28 14:53:00</td>\n",
              "      <td>1.10</td>\n",
              "    </tr>\n",
              "    <tr>\n",
              "      <th>47948</th>\n",
              "      <td>2020-11-28 05:13:00</td>\n",
              "      <td>1.65</td>\n",
              "    </tr>\n",
              "    <tr>\n",
              "      <th>47954</th>\n",
              "      <td>2020-11-27 23:22:00</td>\n",
              "      <td>8.40</td>\n",
              "    </tr>\n",
              "  </tbody>\n",
              "</table>\n",
              "<p>832 rows × 2 columns</p>\n",
              "</div>"
            ],
            "text/plain": [
              "                startDate  value\n",
              "7     2021-10-31 22:10:00   3.75\n",
              "18    2021-10-31 19:00:00   1.55\n",
              "67    2021-10-31 10:02:00   1.60\n",
              "129   2021-10-30 22:44:00   4.25\n",
              "149   2021-10-30 18:54:00   1.65\n",
              "...                   ...    ...\n",
              "47924 2020-11-28 21:13:00   7.30\n",
              "47938 2020-11-28 16:44:00   2.40\n",
              "47941 2020-11-28 14:53:00   1.10\n",
              "47948 2020-11-28 05:13:00   1.65\n",
              "47954 2020-11-27 23:22:00   8.40\n",
              "\n",
              "[832 rows x 2 columns]"
            ]
          },
          "metadata": {},
          "execution_count": 195
        }
      ]
    },
    {
      "cell_type": "markdown",
      "source": [
        "### Bolus Stats"
      ],
      "metadata": {
        "id": "ILwxLUZwoSJb"
      }
    },
    {
      "cell_type": "code",
      "source": [
        "Bdays = bolusdf['startDate'][7] - bolusdf['startDate'][47954]\n",
        "avgbolus = len(bolusdf)/Bdays.days\n",
        "\"Average number of boluses per day:\", avgbolus\n"
      ],
      "metadata": {
        "id": "0YC8EHPvXITE",
        "colab": {
          "base_uri": "https://localhost:8080/"
        },
        "outputId": "3f521b6f-1ebb-414d-f511-1921551d57f8"
      },
      "execution_count": 196,
      "outputs": [
        {
          "output_type": "execute_result",
          "data": {
            "text/plain": [
              "('Average number of boluses per day:', 2.4688427299703264)"
            ]
          },
          "metadata": {},
          "execution_count": 196
        }
      ]
    },
    {
      "cell_type": "code",
      "source": [
        "\"Average bolus units:\", bolusdf['value'].mean()"
      ],
      "metadata": {
        "id": "J9KE44QCXvoU",
        "colab": {
          "base_uri": "https://localhost:8080/"
        },
        "outputId": "5facc04e-1f9f-4543-b2df-066c1a3038b6"
      },
      "execution_count": 197,
      "outputs": [
        {
          "output_type": "execute_result",
          "data": {
            "text/plain": [
              "('Average bolus units:', 3.2859975961538477)"
            ]
          },
          "metadata": {},
          "execution_count": 197
        }
      ]
    },
    {
      "cell_type": "code",
      "source": [
        "max_bolus= bolusdf['value'].max()\n",
        "'Maximum Bolus:', max_bolus, 'units'"
      ],
      "metadata": {
        "id": "ylkSG3HeUitF",
        "colab": {
          "base_uri": "https://localhost:8080/"
        },
        "outputId": "b58dc212-238e-4fe9-e8cb-f84753184e68"
      },
      "execution_count": 198,
      "outputs": [
        {
          "output_type": "execute_result",
          "data": {
            "text/plain": [
              "('Maximum Bolus:', 10.8, 'units')"
            ]
          },
          "metadata": {},
          "execution_count": 198
        }
      ]
    },
    {
      "cell_type": "markdown",
      "source": [
        "Currently we have three separate tables for blood glucose, carbohydrates and insulin. We need to get all of them in a single table, with values of bg, carbs and bolus for every single timestamp (i.e. for ever 5 minute interval). Since CGM sensors have to be changed every 10 days and have a 2 hour warmup period, there are gaps in the time intervals. Thus, we create a new dataframe with 5 minute time intervals. "
      ],
      "metadata": {
        "id": "X8JuYWZ-oVMg"
      }
    },
    {
      "cell_type": "code",
      "source": [
        "import pandas as pd\n",
        "timestamps = pd.date_range('2021-03-11','2021-10-31', freq='5min')\n",
        "timedf = pd.DataFrame({'startDate':timestamps})\n",
        "timedf"
      ],
      "metadata": {
        "colab": {
          "base_uri": "https://localhost:8080/",
          "height": 411
        },
        "id": "tqtyD5zDYTK8",
        "outputId": "6ee1fed8-897d-49d7-90b7-36f45fe3c0a8"
      },
      "execution_count": 2,
      "outputs": [
        {
          "output_type": "execute_result",
          "data": {
            "text/html": [
              "<div>\n",
              "<style scoped>\n",
              "    .dataframe tbody tr th:only-of-type {\n",
              "        vertical-align: middle;\n",
              "    }\n",
              "\n",
              "    .dataframe tbody tr th {\n",
              "        vertical-align: top;\n",
              "    }\n",
              "\n",
              "    .dataframe thead th {\n",
              "        text-align: right;\n",
              "    }\n",
              "</style>\n",
              "<table border=\"1\" class=\"dataframe\">\n",
              "  <thead>\n",
              "    <tr style=\"text-align: right;\">\n",
              "      <th></th>\n",
              "      <th>startDate</th>\n",
              "    </tr>\n",
              "  </thead>\n",
              "  <tbody>\n",
              "    <tr>\n",
              "      <th>0</th>\n",
              "      <td>2021-03-11 00:00:00</td>\n",
              "    </tr>\n",
              "    <tr>\n",
              "      <th>1</th>\n",
              "      <td>2021-03-11 00:05:00</td>\n",
              "    </tr>\n",
              "    <tr>\n",
              "      <th>2</th>\n",
              "      <td>2021-03-11 00:10:00</td>\n",
              "    </tr>\n",
              "    <tr>\n",
              "      <th>3</th>\n",
              "      <td>2021-03-11 00:15:00</td>\n",
              "    </tr>\n",
              "    <tr>\n",
              "      <th>4</th>\n",
              "      <td>2021-03-11 00:20:00</td>\n",
              "    </tr>\n",
              "    <tr>\n",
              "      <th>...</th>\n",
              "      <td>...</td>\n",
              "    </tr>\n",
              "    <tr>\n",
              "      <th>67388</th>\n",
              "      <td>2021-10-30 23:40:00</td>\n",
              "    </tr>\n",
              "    <tr>\n",
              "      <th>67389</th>\n",
              "      <td>2021-10-30 23:45:00</td>\n",
              "    </tr>\n",
              "    <tr>\n",
              "      <th>67390</th>\n",
              "      <td>2021-10-30 23:50:00</td>\n",
              "    </tr>\n",
              "    <tr>\n",
              "      <th>67391</th>\n",
              "      <td>2021-10-30 23:55:00</td>\n",
              "    </tr>\n",
              "    <tr>\n",
              "      <th>67392</th>\n",
              "      <td>2021-10-31 00:00:00</td>\n",
              "    </tr>\n",
              "  </tbody>\n",
              "</table>\n",
              "<p>67393 rows × 1 columns</p>\n",
              "</div>"
            ],
            "text/plain": [
              "                startDate\n",
              "0     2021-03-11 00:00:00\n",
              "1     2021-03-11 00:05:00\n",
              "2     2021-03-11 00:10:00\n",
              "3     2021-03-11 00:15:00\n",
              "4     2021-03-11 00:20:00\n",
              "...                   ...\n",
              "67388 2021-10-30 23:40:00\n",
              "67389 2021-10-30 23:45:00\n",
              "67390 2021-10-30 23:50:00\n",
              "67391 2021-10-30 23:55:00\n",
              "67392 2021-10-31 00:00:00\n",
              "\n",
              "[67393 rows x 1 columns]"
            ]
          },
          "metadata": {},
          "execution_count": 2
        }
      ]
    },
    {
      "cell_type": "markdown",
      "source": [
        "Merging the data in each of the 3 tables to the closest 5 minute timestamp."
      ],
      "metadata": {
        "id": "Ve-OmgwBqz6T"
      }
    },
    {
      "cell_type": "code",
      "source": [
        "#pandas.merge_asof only works on sorted dataframes\n",
        "bgdf = bgdf[::-1]\n",
        "bolusdf = bolusdf[::-1]\n",
        "carbsdf = carbsdf[::-1]"
      ],
      "metadata": {
        "id": "WNq32k3GYS6H"
      },
      "execution_count": 199,
      "outputs": []
    },
    {
      "cell_type": "code",
      "source": [
        "datadf = pd.merge_asof(timedf, bgdf, on=\"startDate\", tolerance=pd.Timedelta('5min'))\n",
        "datadf = pd.merge_asof(datadf, carbsdf, on=\"startDate\", tolerance=pd.Timedelta('5min'))\n",
        "datadf = pd.merge_asof(datadf, bolusdf, on=\"startDate\", tolerance=pd.Timedelta('5min'))\n",
        "datadf = datadf.rename(columns={\"value_x\": \"BG\", \"value_y\": \"Carbs\",\"value\": \"Bolus\"})\n",
        "datadf"
      ],
      "metadata": {
        "colab": {
          "base_uri": "https://localhost:8080/",
          "height": 411
        },
        "id": "67x2jH-QZQNz",
        "outputId": "d20c691a-9ed5-4f75-c8ad-75fe43b051fc"
      },
      "execution_count": 201,
      "outputs": [
        {
          "output_type": "execute_result",
          "data": {
            "text/html": [
              "<div>\n",
              "<style scoped>\n",
              "    .dataframe tbody tr th:only-of-type {\n",
              "        vertical-align: middle;\n",
              "    }\n",
              "\n",
              "    .dataframe tbody tr th {\n",
              "        vertical-align: top;\n",
              "    }\n",
              "\n",
              "    .dataframe thead th {\n",
              "        text-align: right;\n",
              "    }\n",
              "</style>\n",
              "<table border=\"1\" class=\"dataframe\">\n",
              "  <thead>\n",
              "    <tr style=\"text-align: right;\">\n",
              "      <th></th>\n",
              "      <th>startDate</th>\n",
              "      <th>BG</th>\n",
              "      <th>Carbs</th>\n",
              "      <th>Bolus</th>\n",
              "    </tr>\n",
              "  </thead>\n",
              "  <tbody>\n",
              "    <tr>\n",
              "      <th>0</th>\n",
              "      <td>2021-03-11 00:00:00</td>\n",
              "      <td>100.0</td>\n",
              "      <td>NaN</td>\n",
              "      <td>NaN</td>\n",
              "    </tr>\n",
              "    <tr>\n",
              "      <th>1</th>\n",
              "      <td>2021-03-11 00:05:00</td>\n",
              "      <td>99.0</td>\n",
              "      <td>NaN</td>\n",
              "      <td>NaN</td>\n",
              "    </tr>\n",
              "    <tr>\n",
              "      <th>2</th>\n",
              "      <td>2021-03-11 00:10:00</td>\n",
              "      <td>100.0</td>\n",
              "      <td>NaN</td>\n",
              "      <td>NaN</td>\n",
              "    </tr>\n",
              "    <tr>\n",
              "      <th>3</th>\n",
              "      <td>2021-03-11 00:15:00</td>\n",
              "      <td>102.0</td>\n",
              "      <td>NaN</td>\n",
              "      <td>NaN</td>\n",
              "    </tr>\n",
              "    <tr>\n",
              "      <th>4</th>\n",
              "      <td>2021-03-11 00:20:00</td>\n",
              "      <td>104.0</td>\n",
              "      <td>NaN</td>\n",
              "      <td>NaN</td>\n",
              "    </tr>\n",
              "    <tr>\n",
              "      <th>...</th>\n",
              "      <td>...</td>\n",
              "      <td>...</td>\n",
              "      <td>...</td>\n",
              "      <td>...</td>\n",
              "    </tr>\n",
              "    <tr>\n",
              "      <th>67388</th>\n",
              "      <td>2021-10-30 23:40:00</td>\n",
              "      <td>156.0</td>\n",
              "      <td>NaN</td>\n",
              "      <td>NaN</td>\n",
              "    </tr>\n",
              "    <tr>\n",
              "      <th>67389</th>\n",
              "      <td>2021-10-30 23:45:00</td>\n",
              "      <td>154.0</td>\n",
              "      <td>NaN</td>\n",
              "      <td>NaN</td>\n",
              "    </tr>\n",
              "    <tr>\n",
              "      <th>67390</th>\n",
              "      <td>2021-10-30 23:50:00</td>\n",
              "      <td>156.0</td>\n",
              "      <td>NaN</td>\n",
              "      <td>NaN</td>\n",
              "    </tr>\n",
              "    <tr>\n",
              "      <th>67391</th>\n",
              "      <td>2021-10-30 23:55:00</td>\n",
              "      <td>158.0</td>\n",
              "      <td>NaN</td>\n",
              "      <td>NaN</td>\n",
              "    </tr>\n",
              "    <tr>\n",
              "      <th>67392</th>\n",
              "      <td>2021-10-31 00:00:00</td>\n",
              "      <td>158.0</td>\n",
              "      <td>NaN</td>\n",
              "      <td>NaN</td>\n",
              "    </tr>\n",
              "  </tbody>\n",
              "</table>\n",
              "<p>67393 rows × 4 columns</p>\n",
              "</div>"
            ],
            "text/plain": [
              "                startDate     BG  Carbs  Bolus\n",
              "0     2021-03-11 00:00:00  100.0    NaN    NaN\n",
              "1     2021-03-11 00:05:00   99.0    NaN    NaN\n",
              "2     2021-03-11 00:10:00  100.0    NaN    NaN\n",
              "3     2021-03-11 00:15:00  102.0    NaN    NaN\n",
              "4     2021-03-11 00:20:00  104.0    NaN    NaN\n",
              "...                   ...    ...    ...    ...\n",
              "67388 2021-10-30 23:40:00  156.0    NaN    NaN\n",
              "67389 2021-10-30 23:45:00  154.0    NaN    NaN\n",
              "67390 2021-10-30 23:50:00  156.0    NaN    NaN\n",
              "67391 2021-10-30 23:55:00  158.0    NaN    NaN\n",
              "67392 2021-10-31 00:00:00  158.0    NaN    NaN\n",
              "\n",
              "[67393 rows x 4 columns]"
            ]
          },
          "metadata": {},
          "execution_count": 201
        }
      ]
    },
    {
      "cell_type": "markdown",
      "source": [
        "We get the missing blood glucose values through linear interpolation and set carb & bolus values to 0 for the timestamps with no entries."
      ],
      "metadata": {
        "id": "cRE-9kdHrDXs"
      }
    },
    {
      "cell_type": "code",
      "source": [
        "datadf['BG']= datadf['BG'].interpolate(method='linear')\n",
        "datadf['Carbs'] = datadf['Carbs'].fillna(0)\n",
        "datadf['Bolus'] = datadf['Bolus'].fillna(0)\n",
        "datadf[-30:-1]"
      ],
      "metadata": {
        "colab": {
          "base_uri": "https://localhost:8080/",
          "height": 931
        },
        "id": "p1U7T1o8aKft",
        "outputId": "c308fe7b-1961-48c2-f3d7-ed0630b5bd2e"
      },
      "execution_count": 202,
      "outputs": [
        {
          "output_type": "execute_result",
          "data": {
            "text/html": [
              "<div>\n",
              "<style scoped>\n",
              "    .dataframe tbody tr th:only-of-type {\n",
              "        vertical-align: middle;\n",
              "    }\n",
              "\n",
              "    .dataframe tbody tr th {\n",
              "        vertical-align: top;\n",
              "    }\n",
              "\n",
              "    .dataframe thead th {\n",
              "        text-align: right;\n",
              "    }\n",
              "</style>\n",
              "<table border=\"1\" class=\"dataframe\">\n",
              "  <thead>\n",
              "    <tr style=\"text-align: right;\">\n",
              "      <th></th>\n",
              "      <th>startDate</th>\n",
              "      <th>BG</th>\n",
              "      <th>Carbs</th>\n",
              "      <th>Bolus</th>\n",
              "    </tr>\n",
              "  </thead>\n",
              "  <tbody>\n",
              "    <tr>\n",
              "      <th>67363</th>\n",
              "      <td>2021-10-30 21:35:00</td>\n",
              "      <td>162.0</td>\n",
              "      <td>0.0</td>\n",
              "      <td>0.00</td>\n",
              "    </tr>\n",
              "    <tr>\n",
              "      <th>67364</th>\n",
              "      <td>2021-10-30 21:40:00</td>\n",
              "      <td>163.0</td>\n",
              "      <td>0.0</td>\n",
              "      <td>0.00</td>\n",
              "    </tr>\n",
              "    <tr>\n",
              "      <th>67365</th>\n",
              "      <td>2021-10-30 21:45:00</td>\n",
              "      <td>163.0</td>\n",
              "      <td>0.0</td>\n",
              "      <td>0.00</td>\n",
              "    </tr>\n",
              "    <tr>\n",
              "      <th>67366</th>\n",
              "      <td>2021-10-30 21:50:00</td>\n",
              "      <td>169.0</td>\n",
              "      <td>0.0</td>\n",
              "      <td>0.00</td>\n",
              "    </tr>\n",
              "    <tr>\n",
              "      <th>67367</th>\n",
              "      <td>2021-10-30 21:55:00</td>\n",
              "      <td>170.0</td>\n",
              "      <td>0.0</td>\n",
              "      <td>0.00</td>\n",
              "    </tr>\n",
              "    <tr>\n",
              "      <th>67368</th>\n",
              "      <td>2021-10-30 22:00:00</td>\n",
              "      <td>171.0</td>\n",
              "      <td>0.0</td>\n",
              "      <td>0.00</td>\n",
              "    </tr>\n",
              "    <tr>\n",
              "      <th>67369</th>\n",
              "      <td>2021-10-30 22:05:00</td>\n",
              "      <td>168.0</td>\n",
              "      <td>0.0</td>\n",
              "      <td>0.00</td>\n",
              "    </tr>\n",
              "    <tr>\n",
              "      <th>67370</th>\n",
              "      <td>2021-10-30 22:10:00</td>\n",
              "      <td>166.0</td>\n",
              "      <td>0.0</td>\n",
              "      <td>0.00</td>\n",
              "    </tr>\n",
              "    <tr>\n",
              "      <th>67371</th>\n",
              "      <td>2021-10-30 22:15:00</td>\n",
              "      <td>164.0</td>\n",
              "      <td>0.0</td>\n",
              "      <td>0.00</td>\n",
              "    </tr>\n",
              "    <tr>\n",
              "      <th>67372</th>\n",
              "      <td>2021-10-30 22:20:00</td>\n",
              "      <td>165.0</td>\n",
              "      <td>0.0</td>\n",
              "      <td>0.00</td>\n",
              "    </tr>\n",
              "    <tr>\n",
              "      <th>67373</th>\n",
              "      <td>2021-10-30 22:25:00</td>\n",
              "      <td>163.0</td>\n",
              "      <td>0.0</td>\n",
              "      <td>0.00</td>\n",
              "    </tr>\n",
              "    <tr>\n",
              "      <th>67374</th>\n",
              "      <td>2021-10-30 22:30:00</td>\n",
              "      <td>165.0</td>\n",
              "      <td>0.0</td>\n",
              "      <td>0.00</td>\n",
              "    </tr>\n",
              "    <tr>\n",
              "      <th>67375</th>\n",
              "      <td>2021-10-30 22:35:00</td>\n",
              "      <td>166.0</td>\n",
              "      <td>0.0</td>\n",
              "      <td>0.00</td>\n",
              "    </tr>\n",
              "    <tr>\n",
              "      <th>67376</th>\n",
              "      <td>2021-10-30 22:40:00</td>\n",
              "      <td>167.0</td>\n",
              "      <td>0.0</td>\n",
              "      <td>0.00</td>\n",
              "    </tr>\n",
              "    <tr>\n",
              "      <th>67377</th>\n",
              "      <td>2021-10-30 22:45:00</td>\n",
              "      <td>165.0</td>\n",
              "      <td>129.0</td>\n",
              "      <td>4.25</td>\n",
              "    </tr>\n",
              "    <tr>\n",
              "      <th>67378</th>\n",
              "      <td>2021-10-30 22:50:00</td>\n",
              "      <td>164.0</td>\n",
              "      <td>0.0</td>\n",
              "      <td>0.00</td>\n",
              "    </tr>\n",
              "    <tr>\n",
              "      <th>67379</th>\n",
              "      <td>2021-10-30 22:55:00</td>\n",
              "      <td>168.0</td>\n",
              "      <td>0.0</td>\n",
              "      <td>0.00</td>\n",
              "    </tr>\n",
              "    <tr>\n",
              "      <th>67380</th>\n",
              "      <td>2021-10-30 23:00:00</td>\n",
              "      <td>169.0</td>\n",
              "      <td>0.0</td>\n",
              "      <td>0.00</td>\n",
              "    </tr>\n",
              "    <tr>\n",
              "      <th>67381</th>\n",
              "      <td>2021-10-30 23:05:00</td>\n",
              "      <td>170.0</td>\n",
              "      <td>0.0</td>\n",
              "      <td>0.00</td>\n",
              "    </tr>\n",
              "    <tr>\n",
              "      <th>67382</th>\n",
              "      <td>2021-10-30 23:10:00</td>\n",
              "      <td>165.0</td>\n",
              "      <td>0.0</td>\n",
              "      <td>0.00</td>\n",
              "    </tr>\n",
              "    <tr>\n",
              "      <th>67383</th>\n",
              "      <td>2021-10-30 23:15:00</td>\n",
              "      <td>158.0</td>\n",
              "      <td>0.0</td>\n",
              "      <td>0.00</td>\n",
              "    </tr>\n",
              "    <tr>\n",
              "      <th>67384</th>\n",
              "      <td>2021-10-30 23:20:00</td>\n",
              "      <td>152.0</td>\n",
              "      <td>0.0</td>\n",
              "      <td>0.00</td>\n",
              "    </tr>\n",
              "    <tr>\n",
              "      <th>67385</th>\n",
              "      <td>2021-10-30 23:25:00</td>\n",
              "      <td>152.0</td>\n",
              "      <td>0.0</td>\n",
              "      <td>0.00</td>\n",
              "    </tr>\n",
              "    <tr>\n",
              "      <th>67386</th>\n",
              "      <td>2021-10-30 23:30:00</td>\n",
              "      <td>147.0</td>\n",
              "      <td>0.0</td>\n",
              "      <td>0.00</td>\n",
              "    </tr>\n",
              "    <tr>\n",
              "      <th>67387</th>\n",
              "      <td>2021-10-30 23:35:00</td>\n",
              "      <td>153.0</td>\n",
              "      <td>0.0</td>\n",
              "      <td>0.00</td>\n",
              "    </tr>\n",
              "    <tr>\n",
              "      <th>67388</th>\n",
              "      <td>2021-10-30 23:40:00</td>\n",
              "      <td>156.0</td>\n",
              "      <td>0.0</td>\n",
              "      <td>0.00</td>\n",
              "    </tr>\n",
              "    <tr>\n",
              "      <th>67389</th>\n",
              "      <td>2021-10-30 23:45:00</td>\n",
              "      <td>154.0</td>\n",
              "      <td>0.0</td>\n",
              "      <td>0.00</td>\n",
              "    </tr>\n",
              "    <tr>\n",
              "      <th>67390</th>\n",
              "      <td>2021-10-30 23:50:00</td>\n",
              "      <td>156.0</td>\n",
              "      <td>0.0</td>\n",
              "      <td>0.00</td>\n",
              "    </tr>\n",
              "    <tr>\n",
              "      <th>67391</th>\n",
              "      <td>2021-10-30 23:55:00</td>\n",
              "      <td>158.0</td>\n",
              "      <td>0.0</td>\n",
              "      <td>0.00</td>\n",
              "    </tr>\n",
              "  </tbody>\n",
              "</table>\n",
              "</div>"
            ],
            "text/plain": [
              "                startDate     BG  Carbs  Bolus\n",
              "67363 2021-10-30 21:35:00  162.0    0.0   0.00\n",
              "67364 2021-10-30 21:40:00  163.0    0.0   0.00\n",
              "67365 2021-10-30 21:45:00  163.0    0.0   0.00\n",
              "67366 2021-10-30 21:50:00  169.0    0.0   0.00\n",
              "67367 2021-10-30 21:55:00  170.0    0.0   0.00\n",
              "67368 2021-10-30 22:00:00  171.0    0.0   0.00\n",
              "67369 2021-10-30 22:05:00  168.0    0.0   0.00\n",
              "67370 2021-10-30 22:10:00  166.0    0.0   0.00\n",
              "67371 2021-10-30 22:15:00  164.0    0.0   0.00\n",
              "67372 2021-10-30 22:20:00  165.0    0.0   0.00\n",
              "67373 2021-10-30 22:25:00  163.0    0.0   0.00\n",
              "67374 2021-10-30 22:30:00  165.0    0.0   0.00\n",
              "67375 2021-10-30 22:35:00  166.0    0.0   0.00\n",
              "67376 2021-10-30 22:40:00  167.0    0.0   0.00\n",
              "67377 2021-10-30 22:45:00  165.0  129.0   4.25\n",
              "67378 2021-10-30 22:50:00  164.0    0.0   0.00\n",
              "67379 2021-10-30 22:55:00  168.0    0.0   0.00\n",
              "67380 2021-10-30 23:00:00  169.0    0.0   0.00\n",
              "67381 2021-10-30 23:05:00  170.0    0.0   0.00\n",
              "67382 2021-10-30 23:10:00  165.0    0.0   0.00\n",
              "67383 2021-10-30 23:15:00  158.0    0.0   0.00\n",
              "67384 2021-10-30 23:20:00  152.0    0.0   0.00\n",
              "67385 2021-10-30 23:25:00  152.0    0.0   0.00\n",
              "67386 2021-10-30 23:30:00  147.0    0.0   0.00\n",
              "67387 2021-10-30 23:35:00  153.0    0.0   0.00\n",
              "67388 2021-10-30 23:40:00  156.0    0.0   0.00\n",
              "67389 2021-10-30 23:45:00  154.0    0.0   0.00\n",
              "67390 2021-10-30 23:50:00  156.0    0.0   0.00\n",
              "67391 2021-10-30 23:55:00  158.0    0.0   0.00"
            ]
          },
          "metadata": {},
          "execution_count": 202
        }
      ]
    },
    {
      "cell_type": "code",
      "source": [
        "datadf = datadf.drop(['startDate'],axis = 1)\n",
        "data_as_np = datadf.to_numpy()\n",
        "data_as_np"
      ],
      "metadata": {
        "id": "bwsFTABcQgvw",
        "colab": {
          "base_uri": "https://localhost:8080/"
        },
        "outputId": "9e128a8e-f833-4886-a655-ec9be4c2bf74"
      },
      "execution_count": 203,
      "outputs": [
        {
          "output_type": "execute_result",
          "data": {
            "text/plain": [
              "array([[100.,   0.,   0.],\n",
              "       [ 99.,   0.,   0.],\n",
              "       [100.,   0.,   0.],\n",
              "       ...,\n",
              "       [156.,   0.,   0.],\n",
              "       [158.,   0.,   0.],\n",
              "       [158.,   0.,   0.]])"
            ]
          },
          "metadata": {},
          "execution_count": 203
        }
      ]
    },
    {
      "cell_type": "markdown",
      "source": [
        "Plotting 288 readings to get the graph for blood glucose, bolus and carboydrate values for 24 hours.\n"
      ],
      "metadata": {
        "id": "XxFUj7DBrb69"
      }
    },
    {
      "cell_type": "code",
      "source": [
        "#plotting a random day\n",
        "plt.plot(data_as_np[9000:9288,0])\n",
        "carb_list = []\n",
        "for i in range(9000,9288):\n",
        "  if data_as_np[i][1]!=0:\n",
        "    plt.plot(i-9000,data_as_np[i][0],'o',color='green', markersize=10)\n",
        "  if data_as_np[i][2]!=0:\n",
        "    plt.plot(i-9000,data_as_np[i][0],'x',color='red', markersize=15)\n",
        "plt.title('BG, carbs & bolus for 24 hours')\n",
        "plt.show()\n",
        "\n"
      ],
      "metadata": {
        "id": "D4RWzXeQg8UL",
        "colab": {
          "base_uri": "https://localhost:8080/",
          "height": 280
        },
        "outputId": "efa9a79e-fb72-4609-9e03-f0e22aabb2a9"
      },
      "execution_count": 204,
      "outputs": [
        {
          "output_type": "display_data",
          "data": {
            "image/png": "[encoded data removed]",
            "text/plain": [
              "<Figure size 432x288 with 1 Axes>"
            ]
          },
          "metadata": {
            "needs_background": "light"
          }
        }
      ]
    },
    {
      "cell_type": "markdown",
      "source": [
        "## Model Training"
      ],
      "metadata": {
        "id": "QiBSuBvz0B9F"
      }
    },
    {
      "cell_type": "markdown",
      "source": [
        "We will be using 2 hour history of blood glucose values, carbs and bolus to forecast 60 minute blood glucose values in the future."
      ],
      "metadata": {
        "id": "daiPmDfGtJ6m"
      }
    },
    {
      "cell_type": "code",
      "execution_count": 205,
      "metadata": {
        "id": "cJ2A3dSd7Dhf"
      },
      "outputs": [],
      "source": [
        "def np_to_X_y(data, window_size, future_steps):\n",
        "  \"\"\"\n",
        "  Function to input and output data arrays for LSTM model\n",
        "  params:\n",
        "    data (array)       : numpy array containing bg value, carbs and insulin  \n",
        "    window_size (int)  : number of previous timesteps/memory needed for prediction\n",
        "    future_steps (int) : number of timesteps for prediction   \n",
        "\n",
        "  returns:\n",
        "    X (np.array)      : input array having previous 120 minute bg value, carbs, insulin\n",
        "    y (np.array)      : output array having next 60 minute bg values\n",
        "  \"\"\"\n",
        "  X = []\n",
        "  y = []\n",
        "  for i in range(len(data)-window_size-future_steps-1):\n",
        "    row = [a for a in data[i:i+window_size]]\n",
        "    X.append(row)\n",
        "    label = [data[j][0] for j in range(i+window_size,i+window_size+future_steps)]\n",
        "    y.append(label)\n",
        "  return np.asarray(X).astype(np.float32),  np.asarray(y).astype(np.float32)"
      ]
    },
    {
      "cell_type": "code",
      "execution_count": 206,
      "metadata": {
        "id": "DHLgf0Rp85O4",
        "colab": {
          "base_uri": "https://localhost:8080/"
        },
        "outputId": "5459f925-0ce9-4cf8-ee2e-ff7b70fe72e2"
      },
      "outputs": [
        {
          "output_type": "execute_result",
          "data": {
            "text/plain": [
              "((67356, 24, 3), (67356, 12))"
            ]
          },
          "metadata": {},
          "execution_count": 206
        }
      ],
      "source": [
        "# Creating input & labels for LSTM \n",
        "history = 24 #120/5\n",
        "future = 12 #60/5\n",
        "X, y = np_to_X_y(data_as_np, history, future)\n",
        "X.shape, y.shape"
      ]
    },
    {
      "cell_type": "markdown",
      "source": [
        "Splitting data into train, validation and testset."
      ],
      "metadata": {
        "id": "5vK2YnEAv36O"
      }
    },
    {
      "cell_type": "code",
      "execution_count": 207,
      "metadata": {
        "id": "gAbD5gk29MsV",
        "colab": {
          "base_uri": "https://localhost:8080/"
        },
        "outputId": "5d74a9c1-be07-44c0-efec-763f11a9e076"
      },
      "outputs": [
        {
          "output_type": "stream",
          "name": "stdout",
          "text": [
            "(35000, 24, 3) (35000, 12) (15000, 24, 3) (15000, 12) (17356, 24, 3) (17356, 12)\n"
          ]
        }
      ],
      "source": [
        "X_train, y_train = X[:35000], y[:35000]\n",
        "X_val, y_val = X[35000:50000], y[35000:50000]\n",
        "X_test,y_test = X[50000:], y[50000:]\n",
        "print(X_train.shape, y_train.shape, X_val.shape, y_val.shape, X_test.shape, y_test.shape)"
      ]
    },
    {
      "cell_type": "code",
      "source": [
        "X_train, y_train"
      ],
      "metadata": {
        "id": "GCJd0woAxcg6",
        "colab": {
          "base_uri": "https://localhost:8080/"
        },
        "outputId": "bdc16778-8b14-4f9c-9755-bd1a16d04a1a"
      },
      "execution_count": 208,
      "outputs": [
        {
          "output_type": "execute_result",
          "data": {
            "text/plain": [
              "(array([[[100.,   0.,   0.],\n",
              "         [ 99.,   0.,   0.],\n",
              "         [100.,   0.,   0.],\n",
              "         ...,\n",
              "         [140.,   0.,   0.],\n",
              "         [143.,   0.,   0.],\n",
              "         [143.,   0.,   0.]],\n",
              " \n",
              "        [[ 99.,   0.,   0.],\n",
              "         [100.,   0.,   0.],\n",
              "         [102.,   0.,   0.],\n",
              "         ...,\n",
              "         [143.,   0.,   0.],\n",
              "         [143.,   0.,   0.],\n",
              "         [140.,   0.,   0.]],\n",
              " \n",
              "        [[100.,   0.,   0.],\n",
              "         [102.,   0.,   0.],\n",
              "         [104.,   0.,   0.],\n",
              "         ...,\n",
              "         [143.,   0.,   0.],\n",
              "         [140.,   0.,   0.],\n",
              "         [137.,   0.,   0.]],\n",
              " \n",
              "        ...,\n",
              " \n",
              "        [[156.,   0.,   0.],\n",
              "         [155.,   0.,   0.],\n",
              "         [154.,   0.,   0.],\n",
              "         ...,\n",
              "         [126.,   0.,   0.],\n",
              "         [125.,   0.,   0.],\n",
              "         [125.,   0.,   0.]],\n",
              " \n",
              "        [[155.,   0.,   0.],\n",
              "         [154.,   0.,   0.],\n",
              "         [152.,   0.,   0.],\n",
              "         ...,\n",
              "         [125.,   0.,   0.],\n",
              "         [125.,   0.,   0.],\n",
              "         [126.,   0.,   0.]],\n",
              " \n",
              "        [[154.,   0.,   0.],\n",
              "         [152.,   0.,   0.],\n",
              "         [150.,   0.,   0.],\n",
              "         ...,\n",
              "         [125.,   0.,   0.],\n",
              "         [126.,   0.,   0.],\n",
              "         [128.,   0.,   0.]]], dtype=float32),\n",
              " array([[140., 137., 136., ..., 142., 143., 142.],\n",
              "        [137., 136., 137., ..., 143., 142., 141.],\n",
              "        [136., 137., 139., ..., 142., 141., 140.],\n",
              "        ...,\n",
              "        [126., 128., 130., ..., 134., 136., 138.],\n",
              "        [128., 130., 130., ..., 136., 138., 139.],\n",
              "        [130., 130., 127., ..., 138., 139., 138.]], dtype=float32))"
            ]
          },
          "metadata": {},
          "execution_count": 208
        }
      ]
    },
    {
      "cell_type": "markdown",
      "source": [
        "On running multiple experiments and hyperparameter tuning, we find that the best structure is a LSTM layer of 70 units with a relu activation function. The MSE objective is minimized using Adam and a learning rate of 0.0001. The number of train epochs was 20 iterations."
      ],
      "metadata": {
        "id": "P2X1lJdKwKbr"
      }
    },
    {
      "cell_type": "code",
      "execution_count": 209,
      "metadata": {
        "id": "aV2q1I1HBZvx",
        "colab": {
          "base_uri": "https://localhost:8080/"
        },
        "outputId": "68efa7d9-b58d-431c-804d-1a54697d0466"
      },
      "outputs": [
        {
          "output_type": "stream",
          "name": "stdout",
          "text": [
            "Model: \"sequential_1\"\n",
            "_________________________________________________________________\n",
            " Layer (type)                Output Shape              Param #   \n",
            "=================================================================\n",
            " lstm_1 (LSTM)               (None, 70)                20720     \n",
            "                                                                 \n",
            " dense_1 (Dense)             (None, 12)                852       \n",
            "                                                                 \n",
            "=================================================================\n",
            "Total params: 21,572\n",
            "Trainable params: 21,572\n",
            "Non-trainable params: 0\n",
            "_________________________________________________________________\n"
          ]
        }
      ],
      "source": [
        "model = Sequential()\n",
        "model.add(LSTM(70,activation='relu',input_shape=(X_train.shape[1],X_train.shape[2])))\n",
        "model.add(Dense(future))\n",
        "model.summary()"
      ]
    },
    {
      "cell_type": "code",
      "execution_count": 210,
      "metadata": {
        "id": "HOnwh7gmBjhB"
      },
      "outputs": [],
      "source": [
        "cp1 = ModelCheckpoint('model/', save_best_only=True)\n",
        "model.compile(loss=MeanSquaredError(), optimizer=Adam(learning_rate=0.0001), metrics=[RootMeanSquaredError()])"
      ]
    },
    {
      "cell_type": "code",
      "execution_count": 211,
      "metadata": {
        "id": "0gOmUgbgCnjp",
        "colab": {
          "base_uri": "https://localhost:8080/"
        },
        "outputId": "a251dcbc-c3e9-44ca-db85-089fd2dadec0"
      },
      "outputs": [
        {
          "output_type": "stream",
          "name": "stdout",
          "text": [
            "Epoch 1/20\n",
            "1091/1094 [============================>.] - ETA: 0s - loss: 3214.6704 - root_mean_squared_error: 56.6981INFO:tensorflow:Assets written to: model/assets\n"
          ]
        },
        {
          "output_type": "stream",
          "name": "stderr",
          "text": [
            "INFO:tensorflow:Assets written to: model/assets\n",
            "WARNING:absl:<keras.layers.recurrent.LSTMCell object at 0x7fdbecdc5510> has the same name 'LSTMCell' as a built-in Keras object. Consider renaming <class 'keras.layers.recurrent.LSTMCell'> to avoid naming conflicts when loading with `tf.keras.models.load_model`. If renaming is not possible, pass the object in the `custom_objects` parameter of the load function.\n"
          ]
        },
        {
          "output_type": "stream",
          "name": "stdout",
          "text": [
            "1094/1094 [==============================] - 25s 21ms/step - loss: 3207.5513 - root_mean_squared_error: 56.6352 - val_loss: 424.5740 - val_root_mean_squared_error: 20.6052\n",
            "Epoch 2/20\n",
            "1091/1094 [============================>.] - ETA: 0s - loss: 313.3837 - root_mean_squared_error: 17.7026INFO:tensorflow:Assets written to: model/assets\n"
          ]
        },
        {
          "output_type": "stream",
          "name": "stderr",
          "text": [
            "INFO:tensorflow:Assets written to: model/assets\n",
            "WARNING:absl:<keras.layers.recurrent.LSTMCell object at 0x7fdbecdc5510> has the same name 'LSTMCell' as a built-in Keras object. Consider renaming <class 'keras.layers.recurrent.LSTMCell'> to avoid naming conflicts when loading with `tf.keras.models.load_model`. If renaming is not possible, pass the object in the `custom_objects` parameter of the load function.\n"
          ]
        },
        {
          "output_type": "stream",
          "name": "stdout",
          "text": [
            "1094/1094 [==============================] - 24s 21ms/step - loss: 313.2578 - root_mean_squared_error: 17.6991 - val_loss: 310.1481 - val_root_mean_squared_error: 17.6110\n",
            "Epoch 3/20\n",
            "1094/1094 [==============================] - ETA: 0s - loss: 229.0933 - root_mean_squared_error: 15.1358INFO:tensorflow:Assets written to: model/assets\n"
          ]
        },
        {
          "output_type": "stream",
          "name": "stderr",
          "text": [
            "INFO:tensorflow:Assets written to: model/assets\n",
            "WARNING:absl:<keras.layers.recurrent.LSTMCell object at 0x7fdbecdc5510> has the same name 'LSTMCell' as a built-in Keras object. Consider renaming <class 'keras.layers.recurrent.LSTMCell'> to avoid naming conflicts when loading with `tf.keras.models.load_model`. If renaming is not possible, pass the object in the `custom_objects` parameter of the load function.\n"
          ]
        },
        {
          "output_type": "stream",
          "name": "stdout",
          "text": [
            "1094/1094 [==============================] - 22s 20ms/step - loss: 229.0933 - root_mean_squared_error: 15.1358 - val_loss: 250.6891 - val_root_mean_squared_error: 15.8332\n",
            "Epoch 4/20\n",
            "1091/1094 [============================>.] - ETA: 0s - loss: 197.1951 - root_mean_squared_error: 14.0426INFO:tensorflow:Assets written to: model/assets\n"
          ]
        },
        {
          "output_type": "stream",
          "name": "stderr",
          "text": [
            "INFO:tensorflow:Assets written to: model/assets\n",
            "WARNING:absl:<keras.layers.recurrent.LSTMCell object at 0x7fdbecdc5510> has the same name 'LSTMCell' as a built-in Keras object. Consider renaming <class 'keras.layers.recurrent.LSTMCell'> to avoid naming conflicts when loading with `tf.keras.models.load_model`. If renaming is not possible, pass the object in the `custom_objects` parameter of the load function.\n"
          ]
        },
        {
          "output_type": "stream",
          "name": "stdout",
          "text": [
            "1094/1094 [==============================] - 22s 20ms/step - loss: 197.1444 - root_mean_squared_error: 14.0408 - val_loss: 227.7479 - val_root_mean_squared_error: 15.0913\n",
            "Epoch 5/20\n",
            "1094/1094 [==============================] - ETA: 0s - loss: 202.6136 - root_mean_squared_error: 14.2342INFO:tensorflow:Assets written to: model/assets\n"
          ]
        },
        {
          "output_type": "stream",
          "name": "stderr",
          "text": [
            "INFO:tensorflow:Assets written to: model/assets\n",
            "WARNING:absl:<keras.layers.recurrent.LSTMCell object at 0x7fdbecdc5510> has the same name 'LSTMCell' as a built-in Keras object. Consider renaming <class 'keras.layers.recurrent.LSTMCell'> to avoid naming conflicts when loading with `tf.keras.models.load_model`. If renaming is not possible, pass the object in the `custom_objects` parameter of the load function.\n"
          ]
        },
        {
          "output_type": "stream",
          "name": "stdout",
          "text": [
            "1094/1094 [==============================] - 23s 21ms/step - loss: 202.6136 - root_mean_squared_error: 14.2342 - val_loss: 220.8688 - val_root_mean_squared_error: 14.8617\n",
            "Epoch 6/20\n",
            "1094/1094 [==============================] - 21s 19ms/step - loss: 190.2655 - root_mean_squared_error: 13.7937 - val_loss: 223.1961 - val_root_mean_squared_error: 14.9397\n",
            "Epoch 7/20\n",
            "1093/1094 [============================>.] - ETA: 0s - loss: 170.8236 - root_mean_squared_error: 13.0700INFO:tensorflow:Assets written to: model/assets\n"
          ]
        },
        {
          "output_type": "stream",
          "name": "stderr",
          "text": [
            "INFO:tensorflow:Assets written to: model/assets\n",
            "WARNING:absl:<keras.layers.recurrent.LSTMCell object at 0x7fdbecdc5510> has the same name 'LSTMCell' as a built-in Keras object. Consider renaming <class 'keras.layers.recurrent.LSTMCell'> to avoid naming conflicts when loading with `tf.keras.models.load_model`. If renaming is not possible, pass the object in the `custom_objects` parameter of the load function.\n"
          ]
        },
        {
          "output_type": "stream",
          "name": "stdout",
          "text": [
            "1094/1094 [==============================] - 27s 25ms/step - loss: 170.7793 - root_mean_squared_error: 13.0683 - val_loss: 199.0467 - val_root_mean_squared_error: 14.1084\n",
            "Epoch 8/20\n",
            "1094/1094 [==============================] - ETA: 0s - loss: 163.4614 - root_mean_squared_error: 12.7852INFO:tensorflow:Assets written to: model/assets\n"
          ]
        },
        {
          "output_type": "stream",
          "name": "stderr",
          "text": [
            "INFO:tensorflow:Assets written to: model/assets\n",
            "WARNING:absl:<keras.layers.recurrent.LSTMCell object at 0x7fdbecdc5510> has the same name 'LSTMCell' as a built-in Keras object. Consider renaming <class 'keras.layers.recurrent.LSTMCell'> to avoid naming conflicts when loading with `tf.keras.models.load_model`. If renaming is not possible, pass the object in the `custom_objects` parameter of the load function.\n"
          ]
        },
        {
          "output_type": "stream",
          "name": "stdout",
          "text": [
            "1094/1094 [==============================] - 23s 21ms/step - loss: 163.4614 - root_mean_squared_error: 12.7852 - val_loss: 187.9634 - val_root_mean_squared_error: 13.7100\n",
            "Epoch 9/20\n",
            "1092/1094 [============================>.] - ETA: 0s - loss: 158.4968 - root_mean_squared_error: 12.5895INFO:tensorflow:Assets written to: model/assets\n"
          ]
        },
        {
          "output_type": "stream",
          "name": "stderr",
          "text": [
            "INFO:tensorflow:Assets written to: model/assets\n",
            "WARNING:absl:<keras.layers.recurrent.LSTMCell object at 0x7fdbecdc5510> has the same name 'LSTMCell' as a built-in Keras object. Consider renaming <class 'keras.layers.recurrent.LSTMCell'> to avoid naming conflicts when loading with `tf.keras.models.load_model`. If renaming is not possible, pass the object in the `custom_objects` parameter of the load function.\n"
          ]
        },
        {
          "output_type": "stream",
          "name": "stdout",
          "text": [
            "1094/1094 [==============================] - 23s 21ms/step - loss: 158.4109 - root_mean_squared_error: 12.5861 - val_loss: 185.1580 - val_root_mean_squared_error: 13.6073\n",
            "Epoch 10/20\n",
            "1094/1094 [==============================] - 21s 19ms/step - loss: 158.2276 - root_mean_squared_error: 12.5788 - val_loss: 193.9070 - val_root_mean_squared_error: 13.9250\n",
            "Epoch 11/20\n",
            "1093/1094 [============================>.] - ETA: 0s - loss: 154.4189 - root_mean_squared_error: 12.4265INFO:tensorflow:Assets written to: model/assets\n"
          ]
        },
        {
          "output_type": "stream",
          "name": "stderr",
          "text": [
            "INFO:tensorflow:Assets written to: model/assets\n",
            "WARNING:absl:<keras.layers.recurrent.LSTMCell object at 0x7fdbecdc5510> has the same name 'LSTMCell' as a built-in Keras object. Consider renaming <class 'keras.layers.recurrent.LSTMCell'> to avoid naming conflicts when loading with `tf.keras.models.load_model`. If renaming is not possible, pass the object in the `custom_objects` parameter of the load function.\n"
          ]
        },
        {
          "output_type": "stream",
          "name": "stdout",
          "text": [
            "1094/1094 [==============================] - 23s 21ms/step - loss: 154.4385 - root_mean_squared_error: 12.4273 - val_loss: 181.8184 - val_root_mean_squared_error: 13.4840\n",
            "Epoch 12/20\n",
            "1092/1094 [============================>.] - ETA: 0s - loss: 152.0704 - root_mean_squared_error: 12.3317INFO:tensorflow:Assets written to: model/assets\n"
          ]
        },
        {
          "output_type": "stream",
          "name": "stderr",
          "text": [
            "INFO:tensorflow:Assets written to: model/assets\n",
            "WARNING:absl:<keras.layers.recurrent.LSTMCell object at 0x7fdbecdc5510> has the same name 'LSTMCell' as a built-in Keras object. Consider renaming <class 'keras.layers.recurrent.LSTMCell'> to avoid naming conflicts when loading with `tf.keras.models.load_model`. If renaming is not possible, pass the object in the `custom_objects` parameter of the load function.\n"
          ]
        },
        {
          "output_type": "stream",
          "name": "stdout",
          "text": [
            "1094/1094 [==============================] - 23s 21ms/step - loss: 152.1633 - root_mean_squared_error: 12.3354 - val_loss: 175.4824 - val_root_mean_squared_error: 13.2470\n",
            "Epoch 13/20\n",
            "1094/1094 [==============================] - 20s 19ms/step - loss: 166.0548 - root_mean_squared_error: 12.8862 - val_loss: 184.9268 - val_root_mean_squared_error: 13.5988\n",
            "Epoch 14/20\n",
            "1094/1094 [==============================] - 21s 19ms/step - loss: 166.1724 - root_mean_squared_error: 12.8908 - val_loss: 182.9161 - val_root_mean_squared_error: 13.5246\n",
            "Epoch 15/20\n",
            "1094/1094 [==============================] - 21s 19ms/step - loss: 157.2852 - root_mean_squared_error: 12.5413 - val_loss: 180.6705 - val_root_mean_squared_error: 13.4414\n",
            "Epoch 16/20\n",
            "1094/1094 [==============================] - 21s 19ms/step - loss: 148.1547 - root_mean_squared_error: 12.1719 - val_loss: 175.6810 - val_root_mean_squared_error: 13.2545\n",
            "Epoch 17/20\n",
            "1093/1094 [============================>.] - ETA: 0s - loss: 146.3279 - root_mean_squared_error: 12.0966INFO:tensorflow:Assets written to: model/assets\n"
          ]
        },
        {
          "output_type": "stream",
          "name": "stderr",
          "text": [
            "INFO:tensorflow:Assets written to: model/assets\n",
            "WARNING:absl:<keras.layers.recurrent.LSTMCell object at 0x7fdbecdc5510> has the same name 'LSTMCell' as a built-in Keras object. Consider renaming <class 'keras.layers.recurrent.LSTMCell'> to avoid naming conflicts when loading with `tf.keras.models.load_model`. If renaming is not possible, pass the object in the `custom_objects` parameter of the load function.\n"
          ]
        },
        {
          "output_type": "stream",
          "name": "stdout",
          "text": [
            "1094/1094 [==============================] - 23s 21ms/step - loss: 146.3179 - root_mean_squared_error: 12.0962 - val_loss: 172.0038 - val_root_mean_squared_error: 13.1150\n",
            "Epoch 18/20\n",
            "1094/1094 [==============================] - 21s 19ms/step - loss: 146.3342 - root_mean_squared_error: 12.0969 - val_loss: 176.4533 - val_root_mean_squared_error: 13.2836\n",
            "Epoch 19/20\n",
            "1094/1094 [==============================] - 21s 19ms/step - loss: 148.4796 - root_mean_squared_error: 12.1852 - val_loss: 174.5505 - val_root_mean_squared_error: 13.2118\n",
            "Epoch 20/20\n",
            "1092/1094 [============================>.] - ETA: 0s - loss: 142.6714 - root_mean_squared_error: 11.9445INFO:tensorflow:Assets written to: model/assets\n"
          ]
        },
        {
          "output_type": "stream",
          "name": "stderr",
          "text": [
            "INFO:tensorflow:Assets written to: model/assets\n",
            "WARNING:absl:<keras.layers.recurrent.LSTMCell object at 0x7fdbecdc5510> has the same name 'LSTMCell' as a built-in Keras object. Consider renaming <class 'keras.layers.recurrent.LSTMCell'> to avoid naming conflicts when loading with `tf.keras.models.load_model`. If renaming is not possible, pass the object in the `custom_objects` parameter of the load function.\n"
          ]
        },
        {
          "output_type": "stream",
          "name": "stdout",
          "text": [
            "\b\b\b\b\b\b\b\b\b\b\b\b\b\b\b\b\b\b\b\b\b\b\b\b\b\b\b\b\b\b\b\b\b\b\b\b\b\b\b\b\b\b\b\b\b\b\b\b\b\b\b\b\b\b\b\b\b\b\b\b\b\b\b\b\b\b\b\b\b\b\b\b\b\b\b\b\b\b\b\b\b\b\b\b\b\b\b\b\b\b\b\b\b\b\b\b\b\b\b\b\b\b\b\b\r1094/1094 [==============================] - 23s 21ms/step - loss: 142.6401 - root_mean_squared_error: 11.9432 - val_loss: 166.5901 - val_root_mean_squared_error: 12.9070\n"
          ]
        }
      ],
      "source": [
        "history = model.fit(X_train, y_train, validation_data=(X_val, y_val), epochs=20, callbacks=[cp1])"
      ]
    },
    {
      "cell_type": "code",
      "execution_count": 234,
      "metadata": {
        "id": "LUMFpyr5CJ54",
        "colab": {
          "base_uri": "https://localhost:8080/",
          "height": 294
        },
        "outputId": "fedd5cbb-fc21-45d9-eb81-df56fc640b8c"
      },
      "outputs": [
        {
          "output_type": "display_data",
          "data": {
            "image/png": "[encoded data removed]",
            "text/plain": [
              "<Figure size 432x288 with 1 Axes>"
            ]
          },
          "metadata": {
            "needs_background": "light"
          }
        }
      ],
      "source": [
        "plt.plot(history.history['root_mean_squared_error'], label='train error')\n",
        "plt.plot(history.history['val_root_mean_squared_error'], label='validation error')\n",
        "plt.title(\"Error in LSTM Training\")\n",
        "plt.xlabel(\"Epoch\")\n",
        "plt.ylabel(\"Error\")\n",
        "plt.legend()\n",
        "plt.show()"
      ]
    },
    {
      "cell_type": "markdown",
      "source": [
        "Root mean squared error can be a catastrophic evaluation metric for blood glucose predictions. It doesn't help if you are a 100% accurate half of the time and completely off the other half. So we need to find better ways to evaluate accuracy of predictions. One way implemented here is by plotting random 60 minute predictions, since that is what the patient at the user end would see it make treatment decisions. "
      ],
      "metadata": {
        "id": "ApdPgwLo2pZY"
      }
    },
    {
      "cell_type": "code",
      "source": [
        "def plotBG(index, predictions, true):\n",
        "\n",
        "  \"\"\"\n",
        "  Function to compare 60 minute prediction and true blood glucose values.\n",
        "  Params:\n",
        "    index (int)          : Index of prediction array i.e. time instance of prediction\n",
        "    predictions (array)  : LSTM model bg predictions\n",
        "    true (array)         : True bg values \n",
        "\n",
        "  \"\"\"\n",
        "\n",
        "  time = [i for i in range(5,65,5)]\n",
        "  plt.plot(time, predictions[index],'r',label='Prediction')\n",
        "  plt.plot(time, true[index],label='True')\n",
        "  plt.ylim(60,200)\n",
        "  plt.xlabel('Time in minutes')\n",
        "  plt.ylabel('BG in mg/dl')\n",
        "  plt.legend()\n",
        "  pddata= pd.DataFrame(data={'Predictions': predictions[index], 'Actuals':true[index]})\n",
        "  print(pddata)\n",
        "  rmse = math.sqrt(mean_squared_error(predictions[index], true[index]))\n",
        "  print(\"Root Mean Squared Error: \",rmse)"
      ],
      "metadata": {
        "id": "lZjov9K6C-0i"
      },
      "execution_count": 298,
      "outputs": []
    },
    {
      "cell_type": "code",
      "execution_count": 299,
      "metadata": {
        "id": "CYPlKIZnHEpJ",
        "colab": {
          "base_uri": "https://localhost:8080/",
          "height": 411
        },
        "outputId": "307ac4dd-f2f7-4b66-fe9e-c401fdaef734"
      },
      "outputs": [
        {
          "output_type": "execute_result",
          "data": {
            "text/html": [
              "<div>\n",
              "<style scoped>\n",
              "    .dataframe tbody tr th:only-of-type {\n",
              "        vertical-align: middle;\n",
              "    }\n",
              "\n",
              "    .dataframe tbody tr th {\n",
              "        vertical-align: top;\n",
              "    }\n",
              "\n",
              "    .dataframe thead th {\n",
              "        text-align: right;\n",
              "    }\n",
              "</style>\n",
              "<table border=\"1\" class=\"dataframe\">\n",
              "  <thead>\n",
              "    <tr style=\"text-align: right;\">\n",
              "      <th></th>\n",
              "      <th>Train Predictions</th>\n",
              "      <th>True Value</th>\n",
              "    </tr>\n",
              "  </thead>\n",
              "  <tbody>\n",
              "    <tr>\n",
              "      <th>0</th>\n",
              "      <td>141.230087</td>\n",
              "      <td>140.0</td>\n",
              "    </tr>\n",
              "    <tr>\n",
              "      <th>1</th>\n",
              "      <td>141.358841</td>\n",
              "      <td>137.0</td>\n",
              "    </tr>\n",
              "    <tr>\n",
              "      <th>2</th>\n",
              "      <td>141.584641</td>\n",
              "      <td>136.0</td>\n",
              "    </tr>\n",
              "    <tr>\n",
              "      <th>3</th>\n",
              "      <td>142.055145</td>\n",
              "      <td>137.0</td>\n",
              "    </tr>\n",
              "    <tr>\n",
              "      <th>4</th>\n",
              "      <td>142.278412</td>\n",
              "      <td>139.0</td>\n",
              "    </tr>\n",
              "    <tr>\n",
              "      <th>...</th>\n",
              "      <td>...</td>\n",
              "      <td>...</td>\n",
              "    </tr>\n",
              "    <tr>\n",
              "      <th>419995</th>\n",
              "      <td>129.521805</td>\n",
              "      <td>134.0</td>\n",
              "    </tr>\n",
              "    <tr>\n",
              "      <th>419996</th>\n",
              "      <td>127.855820</td>\n",
              "      <td>136.0</td>\n",
              "    </tr>\n",
              "    <tr>\n",
              "      <th>419997</th>\n",
              "      <td>129.378082</td>\n",
              "      <td>138.0</td>\n",
              "    </tr>\n",
              "    <tr>\n",
              "      <th>419998</th>\n",
              "      <td>127.431061</td>\n",
              "      <td>139.0</td>\n",
              "    </tr>\n",
              "    <tr>\n",
              "      <th>419999</th>\n",
              "      <td>124.935081</td>\n",
              "      <td>138.0</td>\n",
              "    </tr>\n",
              "  </tbody>\n",
              "</table>\n",
              "<p>420000 rows × 2 columns</p>\n",
              "</div>"
            ],
            "text/plain": [
              "        Train Predictions  True Value\n",
              "0              141.230087       140.0\n",
              "1              141.358841       137.0\n",
              "2              141.584641       136.0\n",
              "3              142.055145       137.0\n",
              "4              142.278412       139.0\n",
              "...                   ...         ...\n",
              "419995         129.521805       134.0\n",
              "419996         127.855820       136.0\n",
              "419997         129.378082       138.0\n",
              "419998         127.431061       139.0\n",
              "419999         124.935081       138.0\n",
              "\n",
              "[420000 rows x 2 columns]"
            ]
          },
          "metadata": {},
          "execution_count": 299
        }
      ],
      "source": [
        "train_predictions = model.predict(X_train)\n",
        "train_results = pd.DataFrame(data={'Train Predictions':train_predictions.flatten(), 'True Value':y_train.flatten()})\n",
        "train_results"
      ]
    },
    {
      "cell_type": "code",
      "source": [
        "rmse = math.sqrt(mean_squared_error(y_train,train_predictions))\n",
        "rmse"
      ],
      "metadata": {
        "id": "rjB92ED3BYAn",
        "colab": {
          "base_uri": "https://localhost:8080/"
        },
        "outputId": "8ae6e1c1-f3bb-49c2-de92-7a6c1988f037"
      },
      "execution_count": 300,
      "outputs": [
        {
          "output_type": "execute_result",
          "data": {
            "text/plain": [
              "11.768449299962219"
            ]
          },
          "metadata": {},
          "execution_count": 300
        }
      ]
    },
    {
      "cell_type": "code",
      "execution_count": 301,
      "metadata": {
        "id": "ImgfTjXYHEsW",
        "colab": {
          "base_uri": "https://localhost:8080/",
          "height": 512
        },
        "outputId": "0610395a-23d1-4225-ed27-1ae42e3e8579"
      },
      "outputs": [
        {
          "output_type": "stream",
          "name": "stdout",
          "text": [
            "    Predictions  Actuals\n",
            "0    141.393356    143.0\n",
            "1    140.888535    142.0\n",
            "2    142.285339    141.0\n",
            "3    140.213379    140.0\n",
            "4    141.613632    139.0\n",
            "5    140.225113    138.0\n",
            "6    140.516388    138.0\n",
            "7    141.044388    139.0\n",
            "8    138.653259    138.0\n",
            "9    138.956787    134.0\n",
            "10   137.247208    132.0\n",
            "11   136.295609    131.0\n",
            "Root Mean Squared Error:  3.0052920395395724\n"
          ]
        },
        {
          "output_type": "display_data",
          "data": {
            "image/png": "[encoded data removed]",
            "text/plain": [
              "<Figure size 432x288 with 1 Axes>"
            ]
          },
          "metadata": {
            "needs_background": "light"
          }
        }
      ],
      "source": [
        "plotBG(10, train_predictions, y_train)"
      ]
    },
    {
      "cell_type": "code",
      "execution_count": 302,
      "metadata": {
        "id": "EG2PWidwHEvs",
        "colab": {
          "base_uri": "https://localhost:8080/",
          "height": 512
        },
        "outputId": "6b1900e1-e2e6-4e55-e956-9e04eba55d03"
      },
      "outputs": [
        {
          "output_type": "stream",
          "name": "stdout",
          "text": [
            "    Predictions  Actuals\n",
            "0     89.043617     88.0\n",
            "1     87.795349     84.0\n",
            "2     87.210060     83.0\n",
            "3     86.995728     84.0\n",
            "4     88.577194     86.0\n",
            "5     87.859543     87.0\n",
            "6     89.428436     87.0\n",
            "7     90.042671     85.0\n",
            "8     89.236198     83.0\n",
            "9     90.854691     82.0\n",
            "10    91.258163     82.0\n",
            "11    92.557045     83.0\n",
            "Root Mean Squared Error:  5.592001700372396\n"
          ]
        },
        {
          "output_type": "display_data",
          "data": {
            "image/png": "[encoded data removed]",
            "text/plain": [
              "<Figure size 432x288 with 1 Axes>"
            ]
          },
          "metadata": {
            "needs_background": "light"
          }
        }
      ],
      "source": [
        "plotBG(89, train_predictions, y_train)\n"
      ]
    },
    {
      "cell_type": "code",
      "execution_count": 303,
      "metadata": {
        "id": "-kafHVl5HEys",
        "colab": {
          "base_uri": "https://localhost:8080/",
          "height": 411
        },
        "outputId": "0ede2e4c-31a0-4441-8e1b-b5b50e1960d5"
      },
      "outputs": [
        {
          "output_type": "execute_result",
          "data": {
            "text/html": [
              "<div>\n",
              "<style scoped>\n",
              "    .dataframe tbody tr th:only-of-type {\n",
              "        vertical-align: middle;\n",
              "    }\n",
              "\n",
              "    .dataframe tbody tr th {\n",
              "        vertical-align: top;\n",
              "    }\n",
              "\n",
              "    .dataframe thead th {\n",
              "        text-align: right;\n",
              "    }\n",
              "</style>\n",
              "<table border=\"1\" class=\"dataframe\">\n",
              "  <thead>\n",
              "    <tr style=\"text-align: right;\">\n",
              "      <th></th>\n",
              "      <th>Val Predictions</th>\n",
              "      <th>True Value</th>\n",
              "    </tr>\n",
              "  </thead>\n",
              "  <tbody>\n",
              "    <tr>\n",
              "      <th>0</th>\n",
              "      <td>130.720657</td>\n",
              "      <td>130.0</td>\n",
              "    </tr>\n",
              "    <tr>\n",
              "      <th>1</th>\n",
              "      <td>131.595734</td>\n",
              "      <td>127.0</td>\n",
              "    </tr>\n",
              "    <tr>\n",
              "      <th>2</th>\n",
              "      <td>133.733932</td>\n",
              "      <td>126.0</td>\n",
              "    </tr>\n",
              "    <tr>\n",
              "      <th>3</th>\n",
              "      <td>131.208618</td>\n",
              "      <td>126.0</td>\n",
              "    </tr>\n",
              "    <tr>\n",
              "      <th>4</th>\n",
              "      <td>132.277908</td>\n",
              "      <td>129.0</td>\n",
              "    </tr>\n",
              "    <tr>\n",
              "      <th>...</th>\n",
              "      <td>...</td>\n",
              "      <td>...</td>\n",
              "    </tr>\n",
              "    <tr>\n",
              "      <th>179995</th>\n",
              "      <td>136.410507</td>\n",
              "      <td>121.0</td>\n",
              "    </tr>\n",
              "    <tr>\n",
              "      <th>179996</th>\n",
              "      <td>134.644913</td>\n",
              "      <td>121.0</td>\n",
              "    </tr>\n",
              "    <tr>\n",
              "      <th>179997</th>\n",
              "      <td>136.771820</td>\n",
              "      <td>121.0</td>\n",
              "    </tr>\n",
              "    <tr>\n",
              "      <th>179998</th>\n",
              "      <td>132.680435</td>\n",
              "      <td>119.0</td>\n",
              "    </tr>\n",
              "    <tr>\n",
              "      <th>179999</th>\n",
              "      <td>130.140701</td>\n",
              "      <td>118.0</td>\n",
              "    </tr>\n",
              "  </tbody>\n",
              "</table>\n",
              "<p>180000 rows × 2 columns</p>\n",
              "</div>"
            ],
            "text/plain": [
              "        Val Predictions  True Value\n",
              "0            130.720657       130.0\n",
              "1            131.595734       127.0\n",
              "2            133.733932       126.0\n",
              "3            131.208618       126.0\n",
              "4            132.277908       129.0\n",
              "...                 ...         ...\n",
              "179995       136.410507       121.0\n",
              "179996       134.644913       121.0\n",
              "179997       136.771820       121.0\n",
              "179998       132.680435       119.0\n",
              "179999       130.140701       118.0\n",
              "\n",
              "[180000 rows x 2 columns]"
            ]
          },
          "metadata": {},
          "execution_count": 303
        }
      ],
      "source": [
        "val_predictions = model.predict(X_val)\n",
        "val_results = pd.DataFrame(data={'Val Predictions':val_predictions.flatten(), 'True Value':y_val.flatten()})\n",
        "val_results"
      ]
    },
    {
      "cell_type": "code",
      "execution_count": 304,
      "metadata": {
        "id": "J5MVU3PdHE1m",
        "colab": {
          "base_uri": "https://localhost:8080/"
        },
        "outputId": "19f0ff79-7f21-4081-b8a3-fccff9d573c6"
      },
      "outputs": [
        {
          "output_type": "execute_result",
          "data": {
            "text/plain": [
              "12.90696585011577"
            ]
          },
          "metadata": {},
          "execution_count": 304
        }
      ],
      "source": [
        "rmse = math.sqrt(mean_squared_error(y_val,val_predictions))\n",
        "rmse"
      ]
    },
    {
      "cell_type": "code",
      "execution_count": 305,
      "metadata": {
        "id": "LxUdToftHE4D",
        "colab": {
          "base_uri": "https://localhost:8080/",
          "height": 512
        },
        "outputId": "e724f2f5-12b5-4039-9761-364ff0330282"
      },
      "outputs": [
        {
          "output_type": "stream",
          "name": "stdout",
          "text": [
            "    Predictions  Actuals\n",
            "0    109.687187    111.0\n",
            "1    108.811646    112.0\n",
            "2    108.779640    113.0\n",
            "3    108.686516    114.0\n",
            "4    108.482063    116.0\n",
            "5    107.842003    119.0\n",
            "6    108.236389    122.0\n",
            "7    107.836876    127.0\n",
            "8    107.345917    127.0\n",
            "9    108.680420    126.0\n",
            "10   108.019493    125.0\n",
            "11   107.184937    124.0\n",
            "Root Mean Squared Error:  13.07972742105812\n"
          ]
        },
        {
          "output_type": "display_data",
          "data": {
            "image/png": "[encoded data removed]",
            "text/plain": [
              "<Figure size 432x288 with 1 Axes>"
            ]
          },
          "metadata": {
            "needs_background": "light"
          }
        }
      ],
      "source": [
        "plotBG(27, val_predictions, y_val)\n"
      ]
    },
    {
      "cell_type": "code",
      "source": [
        "plotBG(2000, val_predictions, y_val)"
      ],
      "metadata": {
        "id": "s0dDoU3oDcdt",
        "colab": {
          "base_uri": "https://localhost:8080/",
          "height": 512
        },
        "outputId": "9f1e99f0-ba47-4e4f-deef-0d30b281b53e"
      },
      "execution_count": 306,
      "outputs": [
        {
          "output_type": "stream",
          "name": "stdout",
          "text": [
            "    Predictions  Actuals\n",
            "0     99.837990    100.0\n",
            "1     98.691269     99.0\n",
            "2     99.245758     98.0\n",
            "3     99.444588     96.0\n",
            "4     98.206108     94.0\n",
            "5     98.241661     92.0\n",
            "6     98.921982     90.0\n",
            "7     98.787056     88.0\n",
            "8    101.187836     86.0\n",
            "9    100.581528     85.0\n",
            "10    99.622711     84.0\n",
            "11   101.996643     84.0\n",
            "Root Mean Squared Error:  10.438523293775201\n"
          ]
        },
        {
          "output_type": "display_data",
          "data": {
            "image/png": "[encoded data removed]",
            "text/plain": [
              "<Figure size 432x288 with 1 Axes>"
            ]
          },
          "metadata": {
            "needs_background": "light"
          }
        }
      ]
    },
    {
      "cell_type": "code",
      "source": [
        "test_predictions = model.predict(X_test)\n",
        "test_results = pd.DataFrame(data={'Test Predictions':test_predictions.flatten(), 'True Value':y_test.flatten()})\n",
        "test_results"
      ],
      "metadata": {
        "id": "S7g2DzdtDlYq",
        "colab": {
          "base_uri": "https://localhost:8080/",
          "height": 411
        },
        "outputId": "681ef4c3-db6a-410d-c7b6-26093063658c"
      },
      "execution_count": 307,
      "outputs": [
        {
          "output_type": "execute_result",
          "data": {
            "text/html": [
              "<div>\n",
              "<style scoped>\n",
              "    .dataframe tbody tr th:only-of-type {\n",
              "        vertical-align: middle;\n",
              "    }\n",
              "\n",
              "    .dataframe tbody tr th {\n",
              "        vertical-align: top;\n",
              "    }\n",
              "\n",
              "    .dataframe thead th {\n",
              "        text-align: right;\n",
              "    }\n",
              "</style>\n",
              "<table border=\"1\" class=\"dataframe\">\n",
              "  <thead>\n",
              "    <tr style=\"text-align: right;\">\n",
              "      <th></th>\n",
              "      <th>Test Predictions</th>\n",
              "      <th>True Value</th>\n",
              "    </tr>\n",
              "  </thead>\n",
              "  <tbody>\n",
              "    <tr>\n",
              "      <th>0</th>\n",
              "      <td>122.968040</td>\n",
              "      <td>125.0</td>\n",
              "    </tr>\n",
              "    <tr>\n",
              "      <th>1</th>\n",
              "      <td>121.415810</td>\n",
              "      <td>122.0</td>\n",
              "    </tr>\n",
              "    <tr>\n",
              "      <th>2</th>\n",
              "      <td>118.913544</td>\n",
              "      <td>120.0</td>\n",
              "    </tr>\n",
              "    <tr>\n",
              "      <th>3</th>\n",
              "      <td>120.294983</td>\n",
              "      <td>118.0</td>\n",
              "    </tr>\n",
              "    <tr>\n",
              "      <th>4</th>\n",
              "      <td>119.361435</td>\n",
              "      <td>121.0</td>\n",
              "    </tr>\n",
              "    <tr>\n",
              "      <th>...</th>\n",
              "      <td>...</td>\n",
              "      <td>...</td>\n",
              "    </tr>\n",
              "    <tr>\n",
              "      <th>208267</th>\n",
              "      <td>118.666557</td>\n",
              "      <td>147.0</td>\n",
              "    </tr>\n",
              "    <tr>\n",
              "      <th>208268</th>\n",
              "      <td>108.688759</td>\n",
              "      <td>153.0</td>\n",
              "    </tr>\n",
              "    <tr>\n",
              "      <th>208269</th>\n",
              "      <td>114.175621</td>\n",
              "      <td>156.0</td>\n",
              "    </tr>\n",
              "    <tr>\n",
              "      <th>208270</th>\n",
              "      <td>107.930077</td>\n",
              "      <td>154.0</td>\n",
              "    </tr>\n",
              "    <tr>\n",
              "      <th>208271</th>\n",
              "      <td>102.215805</td>\n",
              "      <td>156.0</td>\n",
              "    </tr>\n",
              "  </tbody>\n",
              "</table>\n",
              "<p>208272 rows × 2 columns</p>\n",
              "</div>"
            ],
            "text/plain": [
              "        Test Predictions  True Value\n",
              "0             122.968040       125.0\n",
              "1             121.415810       122.0\n",
              "2             118.913544       120.0\n",
              "3             120.294983       118.0\n",
              "4             119.361435       121.0\n",
              "...                  ...         ...\n",
              "208267        118.666557       147.0\n",
              "208268        108.688759       153.0\n",
              "208269        114.175621       156.0\n",
              "208270        107.930077       154.0\n",
              "208271        102.215805       156.0\n",
              "\n",
              "[208272 rows x 2 columns]"
            ]
          },
          "metadata": {},
          "execution_count": 307
        }
      ]
    },
    {
      "cell_type": "code",
      "source": [
        "rmse = math.sqrt(mean_squared_error(y_test,test_predictions))\n",
        "rmse"
      ],
      "metadata": {
        "id": "gvxXtkhhEarI",
        "colab": {
          "base_uri": "https://localhost:8080/"
        },
        "outputId": "8bb918a4-df3b-4d11-bea8-bcca04d78ff3"
      },
      "execution_count": 308,
      "outputs": [
        {
          "output_type": "execute_result",
          "data": {
            "text/plain": [
              "13.104938979605349"
            ]
          },
          "metadata": {},
          "execution_count": 308
        }
      ]
    },
    {
      "cell_type": "code",
      "source": [
        "plotBG(6000, test_predictions, y_test)"
      ],
      "metadata": {
        "id": "qFhpCwjmPYSy",
        "colab": {
          "base_uri": "https://localhost:8080/",
          "height": 512
        },
        "outputId": "7d933df8-7c89-430a-83d7-edf65820de65"
      },
      "execution_count": 309,
      "outputs": [
        {
          "output_type": "stream",
          "name": "stdout",
          "text": [
            "    Predictions  Actuals\n",
            "0    131.744019    124.0\n",
            "1    130.457764    119.0\n",
            "2    128.487106    121.0\n",
            "3    129.866180    124.0\n",
            "4    131.376099    127.0\n",
            "5    127.448425    129.0\n",
            "6    123.334572    130.0\n",
            "7    129.038956    126.0\n",
            "8    128.099091    124.0\n",
            "9    122.345497    124.0\n",
            "10   125.561325    127.0\n",
            "11   128.466522    137.0\n",
            "Root Mean Squared Error:  6.133037354058697\n"
          ]
        },
        {
          "output_type": "display_data",
          "data": {
            "image/png": "[encoded data removed]",
            "text/plain": [
              "<Figure size 432x288 with 1 Axes>"
            ]
          },
          "metadata": {
            "needs_background": "light"
          }
        }
      ]
    },
    {
      "cell_type": "code",
      "source": [
        "plotBG(8907, test_predictions, y_test)"
      ],
      "metadata": {
        "id": "HSomxko4PwOc",
        "colab": {
          "base_uri": "https://localhost:8080/",
          "height": 512
        },
        "outputId": "0539427a-6641-44f0-a420-ec496c859139"
      },
      "execution_count": 310,
      "outputs": [
        {
          "output_type": "stream",
          "name": "stdout",
          "text": [
            "    Predictions  Actuals\n",
            "0    130.527618    132.0\n",
            "1    128.845093    136.0\n",
            "2    128.044922    144.0\n",
            "3    125.812561    150.0\n",
            "4    127.170021    135.0\n",
            "5    124.333382    132.0\n",
            "6    125.888847    129.0\n",
            "7    126.814125    128.0\n",
            "8    122.828476    128.0\n",
            "9    122.533981    127.0\n",
            "10   122.428535    127.0\n",
            "11   121.394966    125.0\n",
            "Root Mean Squared Error:  9.594759909690778\n"
          ]
        },
        {
          "output_type": "display_data",
          "data": {
            "image/png": "[encoded data removed]",
            "text/plain": [
              "<Figure size 432x288 with 1 Axes>"
            ]
          },
          "metadata": {
            "needs_background": "light"
          }
        }
      ]
    },
    {
      "cell_type": "code",
      "source": [
        "def clarke_error_grid(ref_values, pred_values, title_string):\n",
        "\n",
        "    #Checking to see if the lengths of the reference and prediction arrays are the same\n",
        "    assert (len(ref_values) == len(pred_values)), \"Unequal number of values (reference : {}) (prediction : {}).\".format(len(ref_values), len(pred_values))\n",
        "\n",
        "   \n",
        "    #Clear plot\n",
        "    plt.clf()\n",
        "\n",
        "    #Set up plot\n",
        "    plt.scatter(ref_values, pred_values, marker='.', color='pink', s=8)\n",
        "    plt.title(title_string + \" Clarke Error Grid\",fontsize=12 )\n",
        "    plt.xlabel(\"True BG (mg/dl)\", fontsize=12 )\n",
        "    plt.ylabel(\"Prediction BG (mg/dl)\",fontsize=12 )\n",
        "    plt.xticks([0, 50, 100, 150, 200, 250, 300, 350, 400])\n",
        "    plt.yticks([0, 50, 100, 150, 200, 250, 300, 350, 400])\n",
        "    plt.gca().set_facecolor('white')\n",
        "\n",
        "    #Set axes lengths\n",
        "    plt.gca().set_xlim([0, 400])\n",
        "    plt.gca().set_ylim([0, 400])\n",
        "    plt.gca().set_aspect((400)/(400))\n",
        "\n",
        "\n",
        "\n",
        "\n",
        "    #Plot zone lines\n",
        "    plt.plot([0,400], [0,400], ':', c='black')                     \n",
        "    plt.plot([0, 175/3], [70, 70], '-', c='black')\n",
        "    plt.plot([175/3, 400/1.2], [70, 400], '-', c='black')          \n",
        "    plt.plot([70, 70], [84, 400],'-', c='black')\n",
        "    plt.plot([0, 70], [180, 180], '-', c='black')\n",
        "    plt.plot([70, 290],[180, 400],'-', c='black')\n",
        "    plt.plot([70, 70], [0, 56], '-', c='black')                    \n",
        "    plt.plot([70, 400], [56, 320],'-', c='black')\n",
        "    plt.plot([180, 180], [0, 70], '-', c='black')\n",
        "    plt.plot([180, 400], [70, 70], '-', c='black')\n",
        "    plt.plot([240, 240], [70, 180],'-', c='black')\n",
        "    plt.plot([240, 400], [180, 180], '-', c='black')\n",
        "    plt.plot([130, 180], [0, 70], '-', c='black')\n",
        "\n",
        "    #Add zone titles\n",
        "    plt.text(30, 15, \"A\", fontsize=15)\n",
        "    plt.text(370, 260, \"B\", fontsize=15)\n",
        "    plt.text(280, 370, \"B\", fontsize=15)\n",
        "    plt.text(160, 370, \"C\", fontsize=15)\n",
        "    plt.text(160, 15, \"C\", fontsize=15)\n",
        "    plt.text(30, 140, \"D\", fontsize=15)\n",
        "    plt.text(370, 120, \"D\", fontsize=15)\n",
        "    plt.text(30, 370, \"E\", fontsize=15)\n",
        "    plt.text(370, 15, \"E\", fontsize=15)\n",
        "\n",
        "    #Statistics from the data\n",
        "    zone = [0] * 5\n",
        "    for i in range(len(ref_values)):\n",
        "        if (ref_values[i] <= 70 and pred_values[i] <= 70) or (pred_values[i] <= 1.2*ref_values[i] and pred_values[i] >= 0.8*ref_values[i]):\n",
        "            zone[0] += 1    #Zone A\n",
        "\n",
        "        elif (ref_values[i] >= 180 and pred_values[i] <= 70) or (ref_values[i] <= 70 and pred_values[i] >= 180):\n",
        "            zone[4] += 1    #Zone E\n",
        "\n",
        "        elif ((ref_values[i] >= 70 and ref_values[i] <= 290) and pred_values[i] >= ref_values[i] + 110) or ((ref_values[i] >= 130 and ref_values[i] <= 180) and (pred_values[i] <= (7/5)*ref_values[i] - 182)):\n",
        "            zone[2] += 1    #Zone C\n",
        "        elif (ref_values[i] >= 240 and (pred_values[i] >= 70 and pred_values[i] <= 180)) or (ref_values[i] <= 175/3 and pred_values[i] <= 180 and pred_values[i] >= 70) or ((ref_values[i] >= 175/3 and ref_values[i] <= 70) and pred_values[i] >= (6/5)*ref_values[i]):\n",
        "            zone[3] += 1    #Zone D\n",
        "        else:\n",
        "            zone[1] += 1    #Zone B\n",
        "\n",
        "    plt.show()\n",
        "    print('Zone A:',zone[0])\n",
        "    print('Zone B:',zone[1])\n",
        "    print('Zone C:',zone[2])\n",
        "    print('Zone D:',zone[3])\n",
        "    print('Zone E:',zone[4])\n",
        "    #Source: https://github.com/suetAndTie/ClarkeErrorGrid/blob/master/ClarkeErrorGrid.py\n",
        "\n"
      ],
      "metadata": {
        "id": "CrWDN7lfE-Km"
      },
      "execution_count": 311,
      "outputs": []
    },
    {
      "cell_type": "code",
      "source": [
        "clarke_error_grid(y_test.flatten(), test_predictions.flatten(),'Test Predictions')"
      ],
      "metadata": {
        "id": "te7bjXtDFJif",
        "colab": {
          "base_uri": "https://localhost:8080/",
          "height": 378
        },
        "outputId": "917c1a70-7813-49a6-eb58-4f7020a7a212"
      },
      "execution_count": 312,
      "outputs": [
        {
          "output_type": "display_data",
          "data": {
            "image/png": "[encoded data removed]",
            "text/plain": [
              "<Figure size 432x288 with 1 Axes>"
            ]
          },
          "metadata": {
            "needs_background": "light"
          }
        },
        {
          "output_type": "stream",
          "name": "stdout",
          "text": [
            "Zone A: 193420\n",
            "Zone B: 14498\n",
            "Zone C: 0\n",
            "Zone D: 354\n",
            "Zone E: 0\n"
          ]
        }
      ]
    },
    {
      "cell_type": "markdown",
      "source": [
        "## UVA/Padova Simulation"
      ],
      "metadata": {
        "id": "8iMgsqccOc5M"
      }
    },
    {
      "cell_type": "code",
      "source": [
        "import run"
      ],
      "metadata": {
        "id": "uh_tIFKrC7kQ"
      },
      "execution_count": 313,
      "outputs": []
    },
    {
      "cell_type": "code",
      "source": [
        "#plotting a few random post meal scenarios \n",
        "def UVAsim(i):\n",
        "  Gb, carbs, bolus = X_test[i][23][0], X_test[i][23][1], X_test[i][23][2]\n",
        "  #print('Start Glucose',Gb,'\\nCarbs',carbs, '\\nBolus',bolus)\n",
        "  pred = run.simulator(Gb,0.3,carbs,bolus)\n",
        "  return pred[1:-1:5]"
      ],
      "metadata": {
        "id": "e4PwkkrOaPBW"
      },
      "execution_count": 332,
      "outputs": []
    },
    {
      "cell_type": "markdown",
      "source": [
        "UVA Padova is only for post prandial state so that's all we check..."
      ],
      "metadata": {
        "id": "DkYOxYUnzKAo"
      }
    },
    {
      "cell_type": "code",
      "source": [
        "UVApred_arr = []\n",
        "truepred_arr = []\n",
        "for i in range(len(X_test)):\n",
        "  if X_test[i][23][1]!=0: \n",
        "    UVApred_arr.append(UVAsim(i))\n",
        "    truepred_arr.append(y_test[i])\n",
        "\n"
      ],
      "metadata": {
        "id": "poMAFoiCvGI3"
      },
      "execution_count": 339,
      "outputs": []
    },
    {
      "cell_type": "code",
      "source": [
        "rmse = math.sqrt(mean_squared_error(UVApred_arr,truepred_arr))\n",
        "rmse"
      ],
      "metadata": {
        "colab": {
          "base_uri": "https://localhost:8080/"
        },
        "id": "nqh9XvRTwG6J",
        "outputId": "36acb128-87f5-46b4-e906-8e5d3df77a48"
      },
      "execution_count": 341,
      "outputs": [
        {
          "output_type": "execute_result",
          "data": {
            "text/plain": [
              "33.466919956641895"
            ]
          },
          "metadata": {},
          "execution_count": 341
        }
      ]
    },
    {
      "cell_type": "code",
      "source": [
        "def compare(lstm_val, UVA_val, true):\n",
        "  time_array = [i for i in range(5,65,5)]\n",
        "  results = pd.DataFrame(data={'Time in min':time_array, 'UVA/Padova Predictions':UVA_val, 'LSTM Predictions':lstm_val.flatten(), 'True Value':true})\n",
        "  print(results)\n",
        "  plt.plot(time_array,UVA_val)\n",
        "  plt.plot(time_array,lstm_val,'r')\n",
        "  plt.plot(time_array,true)\n",
        "  plt.ylim(60,200)\n",
        "  plt.xlabel(\"Time in minutes\")\n",
        "  plt.ylabel(\"BG in mg/dl\")\n",
        "  plt.legend(['UVA/Padova','LSTM','True'])\n",
        "  plt.show()\n",
        "\n"
      ],
      "metadata": {
        "id": "uJWL10qiDuZQ"
      },
      "execution_count": 315,
      "outputs": []
    },
    {
      "cell_type": "code",
      "source": [
        "UVApred1 = UVAsim(16917)\n",
        "lstm_pred1 = model.predict(np.reshape(X_test[16917],(1,24,3)))\n",
        "compare(lstm_pred1.flatten(), UVApred1, y_test[16917].flatten())"
      ],
      "metadata": {
        "id": "SIO0kS8AEyZa",
        "colab": {
          "base_uri": "https://localhost:8080/",
          "height": 545
        },
        "outputId": "af79887f-e581-415a-95c5-d106d175ec7f"
      },
      "execution_count": 316,
      "outputs": [
        {
          "output_type": "stream",
          "name": "stdout",
          "text": [
            "Start Glucose 111.0 \n",
            "Carbs 41.0 \n",
            "Bolus 1.5\n",
            "    Time in min  UVA/Padova Predictions  LSTM Predictions  True Value\n",
            "0             5              113.475476        113.193291       108.0\n",
            "1            10              123.288614        115.025429       104.0\n",
            "2            15              130.300415        113.720596       105.0\n",
            "3            20              135.766373        115.930138       112.0\n",
            "4            25              140.355840        118.571228       119.0\n",
            "5            30              144.421745        113.082993       123.0\n",
            "6            35              148.150685        108.240562       127.0\n",
            "7            40              151.641955        116.606178       133.0\n",
            "8            45              154.949098        112.613754       137.0\n",
            "9            50              158.101730        115.972748       136.0\n",
            "10           55              161.117018        114.766144       133.0\n",
            "11           60              164.005682        113.629776       131.0\n"
          ]
        },
        {
          "output_type": "display_data",
          "data": {
            "image/png": "[encoded data removed]",
            "text/plain": [
              "<Figure size 432x288 with 1 Axes>"
            ]
          },
          "metadata": {
            "needs_background": "light"
          }
        }
      ]
    },
    {
      "cell_type": "code",
      "source": [
        "UVApred2 = UVAsim(9874)\n",
        "lstm_pred2 = model.predict(np.reshape(X_test[9874],(1,24,3)))\n",
        "compare(lstm_pred2.flatten(), UVApred2, y_test[9874].flatten())"
      ],
      "metadata": {
        "id": "rCXLTumQGp1U",
        "colab": {
          "base_uri": "https://localhost:8080/",
          "height": 545
        },
        "outputId": "b29809f6-db23-4bb5-c2f7-a6692aa0d70c"
      },
      "execution_count": 317,
      "outputs": [
        {
          "output_type": "stream",
          "name": "stdout",
          "text": [
            "Start Glucose 114.0 \n",
            "Carbs 115.0 \n",
            "Bolus 3.5\n",
            "    Time in min  UVA/Padova Predictions  LSTM Predictions  True Value\n",
            "0             5              116.451453        117.983551       113.0\n",
            "1            10              126.149395        115.675522       113.0\n",
            "2            15              133.074619        113.523582       112.0\n",
            "3            20              138.509155        111.188782       110.0\n",
            "4            25              143.125246        108.069382       108.0\n",
            "5            30              147.264347         99.038414       104.0\n",
            "6            35              151.098917         96.078400       100.0\n",
            "7            40              154.715634         91.096397        99.0\n",
            "8            45              158.157971         87.485512       101.0\n",
            "9            50              161.447946         92.977623        99.0\n",
            "10           55              164.597169         84.493538        96.0\n",
            "11           60              167.612411         83.892746        89.0\n"
          ]
        },
        {
          "output_type": "display_data",
          "data": {
            "image/png": "[encoded data removed]",
            "text/plain": [
              "<Figure size 432x288 with 1 Axes>"
            ]
          },
          "metadata": {
            "needs_background": "light"
          }
        }
      ]
    },
    {
      "cell_type": "code",
      "source": [
        "UVApred3 = UVAsim(404)\n",
        "lstm_pred3 = model.predict(np.reshape(X_test[404],(1,24,3)))\n",
        "compare(lstm_pred3.flatten(), UVApred3, y_test[404].flatten())"
      ],
      "metadata": {
        "id": "XndK6L6qF_FZ",
        "colab": {
          "base_uri": "https://localhost:8080/",
          "height": 545
        },
        "outputId": "605098cb-f014-40a1-86a9-68abd09570f9"
      },
      "execution_count": 318,
      "outputs": [
        {
          "output_type": "stream",
          "name": "stdout",
          "text": [
            "Start Glucose 79.0 \n",
            "Carbs 8.0 \n",
            "Bolus 0.0\n",
            "    Time in min  UVA/Padova Predictions  LSTM Predictions  True Value\n",
            "0             5               81.732520         84.192963        77.0\n",
            "1            10               92.832323         88.041946        80.0\n",
            "2            15              101.098123         97.852783        90.0\n",
            "3            20              107.745482         95.633492        98.0\n",
            "4            25              113.429538         96.989571       101.0\n",
            "5            30              118.505841        100.833267        98.0\n",
            "6            35              123.169622        107.295929        94.0\n",
            "7            40              127.530104        111.727066        96.0\n",
            "8            45              131.650174        116.931030        98.0\n",
            "9            50              135.567601        119.271690       101.0\n",
            "10           55              139.306412        118.830200       106.0\n",
            "11           60              142.883001        120.431213       108.0\n"
          ]
        },
        {
          "output_type": "display_data",
          "data": {
            "image/png": "[encoded data removed]",
            "text/plain": [
              "<Figure size 432x288 with 1 Axes>"
            ]
          },
          "metadata": {
            "needs_background": "light"
          }
        }
      ]
    }
  ],
  "metadata": {
    "colab": {
      "collapsed_sections": [],
      "name": "project.ipynb",
      "provenance": [],
      "authorship_tag": "ABX9TyMbx2z0k1MF0mVY1EkDwRaq",
      "include_colab_link": true
    },
    "kernelspec": {
      "display_name": "Python 3",
      "name": "python3"
    },
    "language_info": {
      "name": "python"
    }
  },
  "nbformat": 4,
  "nbformat_minor": 0
}